{
 "cells": [
  {
   "cell_type": "code",
   "execution_count": 1,
   "metadata": {},
   "outputs": [],
   "source": [
    "import numpy as np\n",
    "import tensorflow as tf\n",
    "import matplotlib.pyplot as plt\n",
    "import io\n",
    "import os"
   ]
  },
  {
   "cell_type": "code",
   "execution_count": 2,
   "metadata": {},
   "outputs": [],
   "source": [
    "max_len = 500\n",
    "max_features = 10000"
   ]
  },
  {
   "cell_type": "markdown",
   "metadata": {},
   "source": [
    "Двуслойная сверточная модель по одномерной свертке"
   ]
  },
  {
   "cell_type": "code",
   "execution_count": 3,
   "metadata": {},
   "outputs": [
    {
     "name": "stdout",
     "output_type": "stream",
     "text": [
      "[TRAIN SEQUENCES TENSOR SHAPE: (25000, 500)]\n",
      "[ETST SEQUENCES TENSOR SHAPE: (25000, 500)]\n"
     ]
    }
   ],
   "source": [
    "(train_data, train_labels), (test_data, test_labels) = tf.keras.datasets.imdb.load_data(num_words=10000)\n",
    "\n",
    "train_data = tf.keras.preprocessing.sequence.pad_sequences(train_data, maxlen=max_len)\n",
    "test_data = tf.keras.preprocessing.sequence.pad_sequences(test_data, maxlen=max_len)\n",
    "\n",
    "print(f\"[TRAIN SEQUENCES TENSOR SHAPE: {train_data.shape}]\")\n",
    "print(f\"[ETST SEQUENCES TENSOR SHAPE: {test_data.shape}]\")"
   ]
  },
  {
   "cell_type": "code",
   "execution_count": 4,
   "metadata": {},
   "outputs": [
    {
     "name": "stdout",
     "output_type": "stream",
     "text": [
      "Epoch 1/10\n",
      "157/157 [==============================] - 27s 170ms/step - loss: 0.6208 - acc: 0.6213 - val_loss: 0.4085 - val_acc: 0.8232\n",
      "Epoch 2/10\n",
      "157/157 [==============================] - 23s 150ms/step - loss: 0.3485 - acc: 0.8519 - val_loss: 0.3040 - val_acc: 0.8772\n",
      "Epoch 3/10\n",
      "157/157 [==============================] - 25s 157ms/step - loss: 0.2507 - acc: 0.9003 - val_loss: 0.2872 - val_acc: 0.8830\n",
      "Epoch 4/10\n",
      "157/157 [==============================] - 24s 150ms/step - loss: 0.1987 - acc: 0.9233 - val_loss: 0.3054 - val_acc: 0.8832\n",
      "Epoch 5/10\n",
      "157/157 [==============================] - 24s 154ms/step - loss: 0.1516 - acc: 0.9431 - val_loss: 0.3096 - val_acc: 0.8812\n",
      "Epoch 6/10\n",
      "157/157 [==============================] - 24s 151ms/step - loss: 0.1112 - acc: 0.9606 - val_loss: 0.3504 - val_acc: 0.8824\n",
      "Epoch 7/10\n",
      "157/157 [==============================] - 25s 158ms/step - loss: 0.0780 - acc: 0.9739 - val_loss: 0.9802 - val_acc: 0.7836\n",
      "Epoch 8/10\n",
      "157/157 [==============================] - 30s 190ms/step - loss: 0.0491 - acc: 0.9841 - val_loss: 0.4682 - val_acc: 0.8796\n",
      "Epoch 9/10\n",
      "157/157 [==============================] - 31s 199ms/step - loss: 0.0368 - acc: 0.9891 - val_loss: 0.5229 - val_acc: 0.8790\n",
      "Epoch 10/10\n",
      "157/157 [==============================] - 30s 191ms/step - loss: 0.0223 - acc: 0.9930 - val_loss: 0.5889 - val_acc: 0.8758\n"
     ]
    }
   ],
   "source": [
    "conv1D_model = tf.keras.Sequential()\n",
    "conv1D_model.add(tf.keras.layers.Embedding(max_features, 128, input_length=max_len))\n",
    "conv1D_model.add(tf.keras.layers.Conv1D(32, 7, activation=\"relu\"))\n",
    "conv1D_model.add(tf.keras.layers.MaxPooling1D(5))\n",
    "conv1D_model.add(tf.keras.layers.Conv1D(32, 7, activation=\"relu\"))\n",
    "conv1D_model.add(tf.keras.layers.Flatten())\n",
    "conv1D_model.add(tf.keras.layers.Dense(1, activation=\"sigmoid\"))\n",
    "\n",
    "conv1D_model.compile(\n",
    "    optimizer=\"rmsprop\",\n",
    "    loss=\"binary_crossentropy\",\n",
    "    metrics=[\"acc\"]\n",
    ")\n",
    "cmm_history = conv1D_model.fit(train_data, train_labels,\n",
    "                               epochs=10,\n",
    "                               batch_size=128,\n",
    "                               validation_split=0.2)"
   ]
  }
 ],
 "metadata": {
  "kernelspec": {
   "display_name": "Python 3",
   "language": "python",
   "name": "python3"
  },
  "language_info": {
   "codemirror_mode": {
    "name": "ipython",
    "version": 3
   },
   "file_extension": ".py",
   "mimetype": "text/x-python",
   "name": "python",
   "nbconvert_exporter": "python",
   "pygments_lexer": "ipython3",
   "version": "3.11.3"
  }
 },
 "nbformat": 4,
 "nbformat_minor": 2
}
