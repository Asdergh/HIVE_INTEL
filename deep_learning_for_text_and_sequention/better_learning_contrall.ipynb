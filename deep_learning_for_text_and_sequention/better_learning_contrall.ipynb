{
 "cells": [
  {
   "cell_type": "code",
   "execution_count": 2,
   "metadata": {},
   "outputs": [],
   "source": [
    "import numpy as np\n",
    "import tensorflow as tf\n",
    "import matplotlib.pyplot as plt\n",
    "import os\n",
    "import io"
   ]
  },
  {
   "cell_type": "code",
   "execution_count": 3,
   "metadata": {},
   "outputs": [],
   "source": [
    "# texts_list = []\n",
    "# labels_list = []\n",
    "\n",
    "# base_dir = \"C:\\\\Users\\\\1\\\\Desktop\\\\aclImdb\"\n",
    "# for label in [\"neg\", \"pos\"]:\n",
    "#     train_dir = os.path.join(base_dir, \"train\")\n",
    "#     train_label_dir = os.path.join(train_dir, label)\n",
    "#     for file_name in os.listdir(train_label_dir):\n",
    "#         if file_name[-4:] == \".txt\":\n",
    "\n",
    "#             file = io.open(os.path.join(train_label_dir, file_name), encoding=\"utf-8\")\n",
    "#             if label == \"neg\":\n",
    "                \n",
    "#                 labels_list.append(0)\n",
    "#                 texts_list.append(file.read())\n",
    "            \n",
    "#             else:\n",
    "#                 labels_list.append(1)\n",
    "#                 texts_list.append(file.read())\n",
    "\n",
    "# print(texts_list[0])\n",
    "    \n"
   ]
  },
  {
   "cell_type": "code",
   "execution_count": null,
   "metadata": {},
   "outputs": [],
   "source": []
  },
  {
   "cell_type": "code",
   "execution_count": 4,
   "metadata": {},
   "outputs": [],
   "source": [
    "# max_len = 100\n",
    "# max_texts = 10000\n",
    "# num_words = 10000\n",
    "# train_samples = 200\n",
    "# validation_samples = 10000\n",
    "\n",
    "# labels_tensor = np.asarray(labels_list)\n",
    "# tokenizer = tf.keras.preprocessing.text.Tokenizer(num_words=num_words)\n",
    "# tokenizer.fit_on_texts(texts_list)\n",
    "\n",
    "# sequences = tokenizer.texts_to_sequences(texts_list)\n",
    "# data = tf.keras.preprocessing.sequence.pad_sequences(sequences, maxlen=max_len)\n",
    "\n",
    "# train_data = data[:train_samples]\n",
    "# train_labels = labels_tensor[:train_samples]\n",
    "# validation_data = data[train_samples: train_samples + validation_samples]\n",
    "# validation_labels = labels_tensor[train_samples: train_samples + validation_samples]\n",
    "\n"
   ]
  },
  {
   "cell_type": "code",
   "execution_count": 5,
   "metadata": {},
   "outputs": [
    {
     "name": "stdout",
     "output_type": "stream",
     "text": [
      "Found 2000 images belonging to 2 classes.\n",
      "Found 1000 images belonging to 2 classes.\n"
     ]
    }
   ],
   "source": [
    "base_dir = \"C:\\\\Users\\\\1\\\\Desktop\\\\reinforcment_deep_ML\\\\cats_and_dogs_dataset\"\n",
    "train_dir = os.path.join(base_dir, \"train\")\n",
    "validation_dir = os.path.join(base_dir, \"validation\")\n",
    "\n",
    "datagen = tf.keras.preprocessing.image.ImageDataGenerator(\n",
    "    rotation_range=0.2,\n",
    "    width_shift_range=0.2,\n",
    "    height_shift_range=0.2,\n",
    "    horizontal_flip=True,\n",
    "    vertical_flip=True\n",
    ")\n",
    "#validation_datagen = tf.keras.preprocessing.image.ImageDataGenerator(validation_split=0.2)\n",
    "\n",
    "train_datagen = datagen.flow_from_directory(\n",
    "    train_dir,\n",
    "    target_size=(224, 224),\n",
    "    batch_size=32,\n",
    "    class_mode=\"binary\"\n",
    ")\n",
    "validation_datagen = datagen.flow_from_directory(\n",
    "    validation_dir,\n",
    "    target_size=(224, 224),\n",
    "    batch_size=32,\n",
    "    class_mode=\"binary\"\n",
    ")"
   ]
  },
  {
   "cell_type": "code",
   "execution_count": 6,
   "metadata": {},
   "outputs": [
    {
     "name": "stderr",
     "output_type": "stream",
     "text": [
      "C:\\Users\\1\\AppData\\Local\\Temp\\ipykernel_7268\\1787372736.py:34: UserWarning: `Model.fit_generator` is deprecated and will be removed in a future version. Please use `Model.fit`, which supports generators.\n",
      "  bm_history = branch_model.fit_generator(\n"
     ]
    },
    {
     "name": "stdout",
     "output_type": "stream",
     "text": [
      "Epoch 1/30\n",
      "20/20 [==============================] - 39s 2s/step - loss: 1932.5295 - acc: 0.5063 - val_loss: 0.6909 - val_acc: 0.5125\n",
      "Epoch 2/30\n",
      "20/20 [==============================] - 38s 2s/step - loss: 0.7050 - acc: 0.5128 - val_loss: 0.6930 - val_acc: 0.5156\n",
      "Epoch 3/30\n",
      "20/20 [==============================] - 37s 2s/step - loss: 0.6933 - acc: 0.4920 - val_loss: 0.6932 - val_acc: 0.4859\n",
      "Epoch 4/30\n",
      "20/20 [==============================] - 38s 2s/step - loss: 0.6932 - acc: 0.5016 - val_loss: 0.6932 - val_acc: 0.4859\n",
      "Epoch 5/30\n",
      "20/20 [==============================] - 38s 2s/step - loss: 0.6930 - acc: 0.5266 - val_loss: 0.6930 - val_acc: 0.5156\n",
      "Epoch 6/30\n",
      "20/20 [==============================] - 38s 2s/step - loss: 0.6931 - acc: 0.5112 - val_loss: 0.6932 - val_acc: 0.4938\n",
      "Epoch 7/30\n",
      "20/20 [==============================] - 38s 2s/step - loss: 0.6928 - acc: 0.5297 - val_loss: 0.6932 - val_acc: 0.5000\n",
      "Epoch 8/30\n",
      "20/20 [==============================] - 38s 2s/step - loss: 0.6932 - acc: 0.5000 - val_loss: 0.6931 - val_acc: 0.5047\n",
      "Epoch 9/30\n",
      "20/20 [==============================] - 39s 2s/step - loss: 0.6928 - acc: 0.5234 - val_loss: 0.6934 - val_acc: 0.4906\n",
      "Epoch 10/30\n",
      "20/20 [==============================] - 39s 2s/step - loss: 0.6936 - acc: 0.4797 - val_loss: 0.6932 - val_acc: 0.4969\n",
      "Epoch 11/30\n",
      "20/20 [==============================] - 38s 2s/step - loss: 0.6932 - acc: 0.5016 - val_loss: 0.6931 - val_acc: 0.5078\n",
      "Epoch 12/30\n",
      "20/20 [==============================] - 39s 2s/step - loss: 0.6929 - acc: 0.5234 - val_loss: 0.6938 - val_acc: 0.4656\n",
      "Epoch 13/30\n",
      "20/20 [==============================] - 38s 2s/step - loss: 0.6932 - acc: 0.5000 - val_loss: 0.6932 - val_acc: 0.5016\n",
      "Epoch 14/30\n",
      "20/20 [==============================] - 38s 2s/step - loss: 0.6932 - acc: 0.5016 - val_loss: 0.6932 - val_acc: 0.5000\n",
      "Epoch 15/30\n",
      "20/20 [==============================] - 39s 2s/step - loss: 0.6932 - acc: 0.5016 - val_loss: 0.6934 - val_acc: 0.4891\n",
      "Epoch 16/30\n",
      "20/20 [==============================] - 38s 2s/step - loss: 0.6934 - acc: 0.4875 - val_loss: 0.6931 - val_acc: 0.5047\n",
      "Epoch 17/30\n",
      "20/20 [==============================] - 38s 2s/step - loss: 0.6933 - acc: 0.4922 - val_loss: 0.6929 - val_acc: 0.5281\n",
      "Epoch 18/30\n",
      "20/20 [==============================] - 37s 2s/step - loss: 0.6933 - acc: 0.4891 - val_loss: 0.6930 - val_acc: 0.5188\n",
      "Epoch 19/30\n",
      "20/20 [==============================] - 33s 2s/step - loss: 0.6927 - acc: 0.5417 - val_loss: 0.6929 - val_acc: 0.5172\n",
      "Epoch 20/30\n",
      "20/20 [==============================] - 33s 2s/step - loss: 0.6928 - acc: 0.5219 - val_loss: 0.6932 - val_acc: 0.4984\n",
      "Epoch 21/30\n",
      "20/20 [==============================] - 33s 2s/step - loss: 0.6930 - acc: 0.5112 - val_loss: 0.6930 - val_acc: 0.5078\n",
      "Epoch 22/30\n",
      "20/20 [==============================] - 33s 2s/step - loss: 0.6931 - acc: 0.5047 - val_loss: 0.6932 - val_acc: 0.5000\n",
      "Epoch 23/30\n",
      "20/20 [==============================] - 33s 2s/step - loss: 0.6932 - acc: 0.5000 - val_loss: 0.6930 - val_acc: 0.5109\n",
      "Epoch 24/30\n",
      "20/20 [==============================] - 33s 2s/step - loss: 0.6932 - acc: 0.5031 - val_loss: 0.6931 - val_acc: 0.5047\n",
      "Epoch 25/30\n",
      "20/20 [==============================] - 33s 2s/step - loss: 0.6938 - acc: 0.4672 - val_loss: 0.6931 - val_acc: 0.5016\n",
      "Epoch 26/30\n",
      "20/20 [==============================] - 33s 2s/step - loss: 0.6934 - acc: 0.4797 - val_loss: 0.6932 - val_acc: 0.4891\n",
      "Epoch 27/30\n",
      "20/20 [==============================] - 33s 2s/step - loss: 0.6933 - acc: 0.4844 - val_loss: 0.6932 - val_acc: 0.4953\n",
      "Epoch 28/30\n",
      "20/20 [==============================] - 32s 2s/step - loss: 0.6932 - acc: 0.4583 - val_loss: 0.6932 - val_acc: 0.4891\n",
      "Epoch 29/30\n",
      "20/20 [==============================] - 33s 2s/step - loss: 0.6931 - acc: 0.5141 - val_loss: 0.6932 - val_acc: 0.4906\n",
      "Epoch 30/30\n",
      "20/20 [==============================] - 33s 2s/step - loss: 0.6932 - acc: 0.4953 - val_loss: 0.6932 - val_acc: 0.4984\n"
     ]
    }
   ],
   "source": [
    "\n",
    "callbacks_list = [\n",
    "    tf.keras.callbacks.EarlyStopping(\n",
    "        monitor=\"val_acc\",\n",
    "        patience=1\n",
    "    ),\n",
    "    tf.keras.callbacks.ModelCheckpoint(\n",
    "        filepath=\"text_model.h5\",\n",
    "        monitor=\"val_loss\",\n",
    "        save_best_only=True\n",
    "    )\n",
    "]\n",
    "input_tensor = tf.keras.Input((224, 224, 3))\n",
    "\n",
    "branch_a_layer = tf.keras.layers.Conv2D(32, (3, 3), activation=\"relu\")(input_tensor)\n",
    "branch_a_layer = tf.keras.layers.MaxPooling2D((2, 2))(branch_a_layer)\n",
    "branch_a_layer = tf.keras.layers.Conv2D(32, (3, 3), activation=\"relu\")(branch_a_layer)\n",
    "\n",
    "branch_b_layer = tf.keras.layers.Conv2D(32, (3, 3), activation=\"relu\")(input_tensor)\n",
    "branch_b_layer = tf.keras.layers.MaxPooling2D((2, 2))(branch_b_layer)\n",
    "branch_b_layer = tf.keras.layers.Conv2D(32, (3, 3), activation=\"relu\")(branch_b_layer)\n",
    "\n",
    "branch_concatenate_layer = tf.keras.layers.concatenate([branch_a_layer, branch_b_layer], axis=-1)\n",
    "branch_top_layer = tf.keras.layers.Flatten()(branch_concatenate_layer)\n",
    "branch_top_layer = tf.keras.layers.Dense(32, activation=\"relu\")(branch_top_layer)\n",
    "branch_top_layer = tf.keras.layers.Dense(1, activation=\"sigmoid\")(branch_top_layer)\n",
    "\n",
    "branch_model = tf.keras.Model(input_tensor, branch_top_layer)\n",
    "\n",
    "branch_model.compile(\n",
    "    optimizer=\"rmsprop\",\n",
    "    loss=\"binary_crossentropy\",\n",
    "    metrics=[\"acc\"]\n",
    ")\n",
    "bm_history = branch_model.fit_generator(\n",
    "    train_datagen,\n",
    "    epochs=30,\n",
    "    steps_per_epoch=20,\n",
    "    validation_data=validation_datagen,\n",
    "    validation_steps=20\n",
    ")\n",
    "\n"
   ]
  },
  {
   "cell_type": "code",
   "execution_count": 7,
   "metadata": {},
   "outputs": [
    {
     "data": {
      "image/png": "[encoded data removed]",
      "text/plain": [
       "<Figure size 640x480 with 2 Axes>"
      ]
     },
     "metadata": {},
     "output_type": "display_data"
    }
   ],
   "source": [
    "losses_history = [np.asarray(bm_history.history[\"loss\"]), np.asarray(bm_history.history[\"val_loss\"])]\n",
    "acces_history = [np.asarray(bm_history.history[\"acc\"]), np.asarray(bm_history.history[\"val_acc\"])]\n",
    "colors = [[\"red\", \"blue\"], [\"red\", \"blue\"]]\n",
    "labels = [[\"loss\", \"acc\"], [\"val_loss\", \"val_acc\"]]\n",
    "\n",
    "plt.style.use(\"dark_background\")\n",
    "fig, axis = plt.subplots(nrows=2)\n",
    "for (loss, acc, color, label) in zip(losses_history, acces_history, colors, labels):\n",
    "    \n",
    "    axis[0].plot(range(1, loss.shape[0] + 1), loss, color=color[0], label=label[0])\n",
    "    axis[0].fill_between(range(1, loss.shape[0] + 1), loss - 0.12, loss + 0.12, color=color[1], label=label[1], alpha=0.56)\n",
    "    axis[1].plot(range(1, acc.shape[0] + 1), acc, color=color[1], label=label[1])\n",
    "    axis[1].fill_between(range(1, acc.shape[0] + 1), acc - 0.12, acc + 0.12, color=colors[1], alpha=0.56)\n",
    "\n",
    "plt.show()"
   ]
  },
  {
   "cell_type": "code",
   "execution_count": null,
   "metadata": {},
   "outputs": [],
   "source": []
  }
 ],
 "metadata": {
  "kernelspec": {
   "display_name": "Python 3",
   "language": "python",
   "name": "python3"
  },
  "language_info": {
   "codemirror_mode": {
    "name": "ipython",
    "version": 3
   },
   "file_extension": ".py",
   "mimetype": "text/x-python",
   "name": "python",
   "nbconvert_exporter": "python",
   "pygments_lexer": "ipython3",
   "version": "3.11.3"
  }
 },
 "nbformat": 4,
 "nbformat_minor": 2
}
