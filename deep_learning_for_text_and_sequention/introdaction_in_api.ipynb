{
 "cells": [
  {
   "cell_type": "code",
   "execution_count": 1,
   "metadata": {},
   "outputs": [],
   "source": [
    "import numpy as np\n",
    "import tensorflow as tf\n",
    "import matplotlib.pyplot as plt\n",
    "import cv2\n",
    "import os\n",
    "import io"
   ]
  },
  {
   "cell_type": "markdown",
   "metadata": {},
   "source": [
    "Первый приме использования функционального api"
   ]
  },
  {
   "cell_type": "code",
   "execution_count": 33,
   "metadata": {},
   "outputs": [
    {
     "name": "stdout",
     "output_type": "stream",
     "text": [
      "Model: \"model_6\"\n",
      "_________________________________________________________________\n",
      " Layer (type)                Output Shape              Param #   \n",
      "=================================================================\n",
      " input_3 (InputLayer)        [(None, 214, 214, 3)]     0         \n",
      "                                                                 \n",
      " conv2d_12 (Conv2D)          (None, 212, 212, 32)      896       \n",
      "                                                                 \n",
      " max_pooling2d_10 (MaxPoolin  (None, 106, 106, 32)     0         \n",
      " g2D)                                                            \n",
      "                                                                 \n",
      " conv2d_13 (Conv2D)          (None, 104, 104, 32)      9248      \n",
      "                                                                 \n",
      " max_pooling2d_11 (MaxPoolin  (None, 52, 52, 32)       0         \n",
      " g2D)                                                            \n",
      "                                                                 \n",
      " conv2d_14 (Conv2D)          (None, 50, 50, 64)        18496     \n",
      "                                                                 \n",
      " max_pooling2d_12 (MaxPoolin  (None, 25, 25, 64)       0         \n",
      " g2D)                                                            \n",
      "                                                                 \n",
      " conv2d_15 (Conv2D)          (None, 23, 23, 64)        36928     \n",
      "                                                                 \n",
      " max_pooling2d_13 (MaxPoolin  (None, 11, 11, 64)       0         \n",
      " g2D)                                                            \n",
      "                                                                 \n",
      " conv2d_16 (Conv2D)          (None, 9, 9, 128)         73856     \n",
      "                                                                 \n",
      " max_pooling2d_14 (MaxPoolin  (None, 4, 4, 128)        0         \n",
      " g2D)                                                            \n",
      "                                                                 \n",
      " conv2d_17 (Conv2D)          (None, 2, 2, 128)         147584    \n",
      "                                                                 \n",
      " flatten_2 (Flatten)         (None, 512)               0         \n",
      "                                                                 \n",
      " dense_12 (Dense)            (None, 32)                16416     \n",
      "                                                                 \n",
      " dense_13 (Dense)            (None, 64)                2112      \n",
      "                                                                 \n",
      " dense_14 (Dense)            (None, 128)               8320      \n",
      "                                                                 \n",
      " dense_15 (Dense)            (None, 1)                 129       \n",
      "                                                                 \n",
      "=================================================================\n",
      "Total params: 313,985\n",
      "Trainable params: 313,985\n",
      "Non-trainable params: 0\n",
      "_________________________________________________________________\n"
     ]
    }
   ],
   "source": [
    "input_tensor = tf.keras.Input((214, 214, 3))\n",
    "conv_model_layer = tf.keras.layers.Conv2D(32, (3, 3), activation=\"relu\")(input_tensor)\n",
    "conv_model_layer = tf.keras.layers.MaxPooling2D((2, 2))(conv_model_layer)\n",
    "conv_model_layer = tf.keras.layers.Conv2D(32, (3, 3), activation=\"relu\")(conv_model_layer)\n",
    "conv_model_layer = tf.keras.layers.MaxPooling2D((2, 2))(conv_model_layer)\n",
    "conv_model_layer = tf.keras.layers.Conv2D(64, (3, 3), activation=\"relu\")(conv_model_layer)\n",
    "conv_model_layer = tf.keras.layers.MaxPooling2D((2, 2))(conv_model_layer)\n",
    "conv_model_layer = tf.keras.layers.Conv2D(64, (3, 3), activation=\"relu\")(conv_model_layer)\n",
    "conv_model_layer = tf.keras.layers.MaxPooling2D((2, 2))(conv_model_layer)\n",
    "conv_model_layer = tf.keras.layers.Conv2D(128, (3, 3), activation=\"relu\")(conv_model_layer)\n",
    "conv_model_layer = tf.keras.layers.MaxPooling2D((2, 2))(conv_model_layer)\n",
    "conv_model_layer = tf.keras.layers.Conv2D(128, (3, 3), activation=\"relu\")(conv_model_layer)\n",
    "conv_model_layer = tf.keras.layers.Flatten()(conv_model_layer)\n",
    "conv_model_layer = tf.keras.layers.Dense(32, activation=\"relu\")(conv_model_layer)\n",
    "conv_model_layer = tf.keras.layers.Dense(64, activation=\"relu\")(conv_model_layer)\n",
    "conv_model_layer = tf.keras.layers.Dense(128, activation=\"relu\")(conv_model_layer)\n",
    "conv_model_layer = tf.keras.layers.Dense(1, activation=\"sigmoid\")(conv_model_layer)\n",
    "\n",
    "conv_model = tf.keras.Model(input_tensor, conv_model_layer)\n",
    "conv_model.compile(\n",
    "    optimizer=\"rmsprop\",\n",
    "    loss=\"binary_crossentropy\",\n",
    "    metrics=[\"acc\"]\n",
    ")\n",
    "conv_model.summary()\n",
    "\n"
   ]
  },
  {
   "cell_type": "markdown",
   "metadata": {},
   "source": [
    "Тестирование модели на фиктиных данных"
   ]
  },
  {
   "cell_type": "code",
   "execution_count": 34,
   "metadata": {},
   "outputs": [],
   "source": [
    "def generate_data(train_samples_count, test_samples_count, image_size_x, image_size_y):\n",
    "\n",
    "    base_dir = \"C:\\\\Users\\\\1\\\\Desktop\\\\reinforcment_deep_ML\\\\data_set\"\n",
    "    \n",
    "    train_dir = os.path.join(base_dir, \"train\")\n",
    "    test_dir = os.path.join(base_dir, \"test\")\n",
    "\n",
    "    train_normal_img_dir = os.path.join(train_dir, \"normal\")\n",
    "    train_student_img_dir = os.path.join(train_dir, \"student\")\n",
    "    test_normal_img_dir = os.path.join(test_dir, \"normal\")\n",
    "    test_student_img_dir = os.path.join(test_dir, \"student\")\n",
    "\n",
    "    os.mkdir(base_dir)\n",
    "    os.mkdir(train_dir)\n",
    "    os.mkdir(test_dir)\n",
    "    os.mkdir(train_normal_img_dir)\n",
    "    os.mkdir(train_student_img_dir)\n",
    "    os.mkdir(test_normal_img_dir)\n",
    "    os.mkdir(test_student_img_dir)\n",
    "    \n",
    "    samples_train_tensor = np.zeros(shape=(train_samples_count, image_size_x, image_size_y, 3))\n",
    "    labels_train_tensor = np.zeros(shape=(train_samples_count))\n",
    "    \n",
    "    samples_test_tensor = np.zeros(shape=(test_samples_count, image_size_x, image_size_y, 3))\n",
    "    labels_test_tensor = np.zeros(shape=(test_samples_count))\n",
    "\n",
    "\n",
    "    for label in [\"normal\", \"student\"]:\n",
    "        for sample in range(train_samples_count):\n",
    "            if label == \"normal\":\n",
    "                image = np.random.normal(0.0, 256.0, (image_size_x, image_size_y, 3))\n",
    "                labels_train_tensor[sample] = 1.\n",
    "                samples_train_tensor[sample, :, :, :] = image\n",
    "                cv2.imwrite(f\"{train_normal_img_dir}\\\\{sample}.jpg\", image)\n",
    "\n",
    "            else:\n",
    "                image = np.random.normal(0.0, 256.0, (image_size_x, image_size_y, 3))\n",
    "                labels_train_tensor[sample] = 0.\n",
    "                samples_train_tensor[sample, :, : :] = np.random.standard_t(12.3, (image_size_x, image_size_y, 3))\n",
    "                cv2.imwrite(f\"{train_student_img_dir}\\\\{sample}.jpg\", image)\n",
    "\n",
    "        for sample in range(test_samples_count):\n",
    "            if label == \"normal\":\n",
    "                image = np.random.normal(0.0, 256.0, (image_size_x, image_size_y, 3))\n",
    "                labels_train_tensor[sample] = 1.\n",
    "                samples_train_tensor[sample, :, :, :] = np.random.normal(0.0, 256.0, (image_size_x, image_size_y, 3))\n",
    "                cv2.imwrite(f\"{test_normal_img_dir}\\\\{sample}.jpg\", image)\n",
    "            \n",
    "            else:\n",
    "                image = np.random.normal(0.0, 256.0, (image_size_x, image_size_y, 3))\n",
    "                labels_test_tensor[sample] = 0.\n",
    "                samples_test_tensor[sample, :, : :] = np.random.standard_t(12.3, (image_size_x, image_size_y, 3))\n",
    "                cv2.imwrite(f\"{test_student_img_dir}\\\\{sample}.jpg\", image)\n",
    "    \n",
    "    \n",
    "\n",
    "    \n",
    "            \n",
    "\n",
    "\n"
   ]
  },
  {
   "cell_type": "code",
   "execution_count": 35,
   "metadata": {},
   "outputs": [],
   "source": [
    "generate_data(image_size_x=214, image_size_y=214,\n",
    "              train_samples_count=2000, test_samples_count=1000)"
   ]
  },
  {
   "cell_type": "code",
   "execution_count": 36,
   "metadata": {},
   "outputs": [],
   "source": [
    "data_generator = tf.keras.preprocessing.image.ImageDataGenerator(rescale=1./255,\n",
    "    rotation_range=40,\n",
    "    width_shift_range=0.2,\n",
    "    height_shift_range=0.2,\n",
    "    shear_range=0.2,\n",
    "    zoom_range=0.2,\n",
    "    horizontal_flip=True)"
   ]
  },
  {
   "cell_type": "code",
   "execution_count": 37,
   "metadata": {},
   "outputs": [],
   "source": [
    "test_dir = \"C:\\\\Users\\\\1\\\\Desktop\\\\reinforcment_deep_ML\\\\data_set\\\\test\"\n",
    "train_dir = \"C:\\\\Users\\\\1\\\\Desktop\\\\reinforcment_deep_ML\\\\data_set\\\\train\"\n"
   ]
  },
  {
   "cell_type": "code",
   "execution_count": 38,
   "metadata": {},
   "outputs": [
    {
     "name": "stdout",
     "output_type": "stream",
     "text": [
      "Found 4000 images belonging to 2 classes.\n",
      "Found 2000 images belonging to 2 classes.\n"
     ]
    }
   ],
   "source": [
    "train_data = data_generator.flow_from_directory(train_dir,\n",
    "                                                target_size=(214, 214),\n",
    "                                                class_mode=\"binary\",\n",
    "                                                batch_size=32)\n",
    "\n",
    "test_data = data_generator.flow_from_directory(test_dir,\n",
    "                                               target_size=(214, 214),\n",
    "                                               class_mode=\"binary\",\n",
    "                                               batch_size=32)\n"
   ]
  },
  {
   "cell_type": "code",
   "execution_count": 39,
   "metadata": {},
   "outputs": [
    {
     "name": "stderr",
     "output_type": "stream",
     "text": [
      "C:\\Users\\1\\AppData\\Local\\Temp\\ipykernel_2696\\1768115307.py:1: UserWarning: `Model.fit_generator` is deprecated and will be removed in a future version. Please use `Model.fit`, which supports generators.\n",
      "  cm_history = conv_model.fit_generator(train_data,\n"
     ]
    },
    {
     "name": "stdout",
     "output_type": "stream",
     "text": [
      "Epoch 1/20\n",
      "30/30 [==============================] - ETA: 0s - loss: 0.6944 - acc: 0.4948"
     ]
    },
    {
     "ename": "KeyboardInterrupt",
     "evalue": "",
     "output_type": "error",
     "traceback": [
      "\u001b[1;31m---------------------------------------------------------------------------\u001b[0m",
      "\u001b[1;31mKeyboardInterrupt\u001b[0m                         Traceback (most recent call last)",
      "Cell \u001b[1;32mIn[39], line 1\u001b[0m\n\u001b[1;32m----> 1\u001b[0m cm_history \u001b[38;5;241m=\u001b[39m \u001b[43mconv_model\u001b[49m\u001b[38;5;241;43m.\u001b[39;49m\u001b[43mfit_generator\u001b[49m\u001b[43m(\u001b[49m\u001b[43mtrain_data\u001b[49m\u001b[43m,\u001b[49m\n\u001b[0;32m      2\u001b[0m \u001b[43m                         \u001b[49m\u001b[43msteps_per_epoch\u001b[49m\u001b[38;5;241;43m=\u001b[39;49m\u001b[38;5;241;43m30\u001b[39;49m\u001b[43m,\u001b[49m\n\u001b[0;32m      3\u001b[0m \u001b[43m                         \u001b[49m\u001b[43mepochs\u001b[49m\u001b[38;5;241;43m=\u001b[39;49m\u001b[38;5;241;43m20\u001b[39;49m\u001b[43m,\u001b[49m\n\u001b[0;32m      4\u001b[0m \u001b[43m                         \u001b[49m\u001b[43mvalidation_data\u001b[49m\u001b[38;5;241;43m=\u001b[39;49m\u001b[43mtest_data\u001b[49m\u001b[43m,\u001b[49m\n\u001b[0;32m      5\u001b[0m \u001b[43m                         \u001b[49m\u001b[43mvalidation_steps\u001b[49m\u001b[38;5;241;43m=\u001b[39;49m\u001b[38;5;241;43m30\u001b[39;49m\u001b[43m)\u001b[49m\n",
      "File \u001b[1;32mc:\\Users\\1\\AppData\\Local\\Programs\\Python\\Python311\\Lib\\site-packages\\keras\\engine\\training.py:2636\u001b[0m, in \u001b[0;36mModel.fit_generator\u001b[1;34m(self, generator, steps_per_epoch, epochs, verbose, callbacks, validation_data, validation_steps, validation_freq, class_weight, max_queue_size, workers, use_multiprocessing, shuffle, initial_epoch)\u001b[0m\n\u001b[0;32m   2624\u001b[0m \u001b[38;5;250m\u001b[39m\u001b[38;5;124;03m\"\"\"Fits the model on data yielded batch-by-batch by a Python generator.\u001b[39;00m\n\u001b[0;32m   2625\u001b[0m \n\u001b[0;32m   2626\u001b[0m \u001b[38;5;124;03mDEPRECATED:\u001b[39;00m\n\u001b[0;32m   2627\u001b[0m \u001b[38;5;124;03m  `Model.fit` now supports generators, so there is no longer any need to\u001b[39;00m\n\u001b[0;32m   2628\u001b[0m \u001b[38;5;124;03m  use this endpoint.\u001b[39;00m\n\u001b[0;32m   2629\u001b[0m \u001b[38;5;124;03m\"\"\"\u001b[39;00m\n\u001b[0;32m   2630\u001b[0m warnings\u001b[38;5;241m.\u001b[39mwarn(\n\u001b[0;32m   2631\u001b[0m     \u001b[38;5;124m\"\u001b[39m\u001b[38;5;124m`Model.fit_generator` is deprecated and \u001b[39m\u001b[38;5;124m\"\u001b[39m\n\u001b[0;32m   2632\u001b[0m     \u001b[38;5;124m\"\u001b[39m\u001b[38;5;124mwill be removed in a future version. \u001b[39m\u001b[38;5;124m\"\u001b[39m\n\u001b[0;32m   2633\u001b[0m     \u001b[38;5;124m\"\u001b[39m\u001b[38;5;124mPlease use `Model.fit`, which supports generators.\u001b[39m\u001b[38;5;124m\"\u001b[39m,\n\u001b[0;32m   2634\u001b[0m     stacklevel\u001b[38;5;241m=\u001b[39m\u001b[38;5;241m2\u001b[39m,\n\u001b[0;32m   2635\u001b[0m )\n\u001b[1;32m-> 2636\u001b[0m \u001b[38;5;28;01mreturn\u001b[39;00m \u001b[38;5;28;43mself\u001b[39;49m\u001b[38;5;241;43m.\u001b[39;49m\u001b[43mfit\u001b[49m\u001b[43m(\u001b[49m\n\u001b[0;32m   2637\u001b[0m \u001b[43m    \u001b[49m\u001b[43mgenerator\u001b[49m\u001b[43m,\u001b[49m\n\u001b[0;32m   2638\u001b[0m \u001b[43m    \u001b[49m\u001b[43msteps_per_epoch\u001b[49m\u001b[38;5;241;43m=\u001b[39;49m\u001b[43msteps_per_epoch\u001b[49m\u001b[43m,\u001b[49m\n\u001b[0;32m   2639\u001b[0m \u001b[43m    \u001b[49m\u001b[43mepochs\u001b[49m\u001b[38;5;241;43m=\u001b[39;49m\u001b[43mepochs\u001b[49m\u001b[43m,\u001b[49m\n\u001b[0;32m   2640\u001b[0m \u001b[43m    \u001b[49m\u001b[43mverbose\u001b[49m\u001b[38;5;241;43m=\u001b[39;49m\u001b[43mverbose\u001b[49m\u001b[43m,\u001b[49m\n\u001b[0;32m   2641\u001b[0m \u001b[43m    \u001b[49m\u001b[43mcallbacks\u001b[49m\u001b[38;5;241;43m=\u001b[39;49m\u001b[43mcallbacks\u001b[49m\u001b[43m,\u001b[49m\n\u001b[0;32m   2642\u001b[0m \u001b[43m    \u001b[49m\u001b[43mvalidation_data\u001b[49m\u001b[38;5;241;43m=\u001b[39;49m\u001b[43mvalidation_data\u001b[49m\u001b[43m,\u001b[49m\n\u001b[0;32m   2643\u001b[0m \u001b[43m    \u001b[49m\u001b[43mvalidation_steps\u001b[49m\u001b[38;5;241;43m=\u001b[39;49m\u001b[43mvalidation_steps\u001b[49m\u001b[43m,\u001b[49m\n\u001b[0;32m   2644\u001b[0m \u001b[43m    \u001b[49m\u001b[43mvalidation_freq\u001b[49m\u001b[38;5;241;43m=\u001b[39;49m\u001b[43mvalidation_freq\u001b[49m\u001b[43m,\u001b[49m\n\u001b[0;32m   2645\u001b[0m \u001b[43m    \u001b[49m\u001b[43mclass_weight\u001b[49m\u001b[38;5;241;43m=\u001b[39;49m\u001b[43mclass_weight\u001b[49m\u001b[43m,\u001b[49m\n\u001b[0;32m   2646\u001b[0m \u001b[43m    \u001b[49m\u001b[43mmax_queue_size\u001b[49m\u001b[38;5;241;43m=\u001b[39;49m\u001b[43mmax_queue_size\u001b[49m\u001b[43m,\u001b[49m\n\u001b[0;32m   2647\u001b[0m \u001b[43m    \u001b[49m\u001b[43mworkers\u001b[49m\u001b[38;5;241;43m=\u001b[39;49m\u001b[43mworkers\u001b[49m\u001b[43m,\u001b[49m\n\u001b[0;32m   2648\u001b[0m \u001b[43m    \u001b[49m\u001b[43muse_multiprocessing\u001b[49m\u001b[38;5;241;43m=\u001b[39;49m\u001b[43muse_multiprocessing\u001b[49m\u001b[43m,\u001b[49m\n\u001b[0;32m   2649\u001b[0m \u001b[43m    \u001b[49m\u001b[43mshuffle\u001b[49m\u001b[38;5;241;43m=\u001b[39;49m\u001b[43mshuffle\u001b[49m\u001b[43m,\u001b[49m\n\u001b[0;32m   2650\u001b[0m \u001b[43m    \u001b[49m\u001b[43minitial_epoch\u001b[49m\u001b[38;5;241;43m=\u001b[39;49m\u001b[43minitial_epoch\u001b[49m\u001b[43m,\u001b[49m\n\u001b[0;32m   2651\u001b[0m \u001b[43m\u001b[49m\u001b[43m)\u001b[49m\n",
      "File \u001b[1;32mc:\\Users\\1\\AppData\\Local\\Programs\\Python\\Python311\\Lib\\site-packages\\keras\\utils\\traceback_utils.py:65\u001b[0m, in \u001b[0;36mfilter_traceback.<locals>.error_handler\u001b[1;34m(*args, **kwargs)\u001b[0m\n\u001b[0;32m     63\u001b[0m filtered_tb \u001b[38;5;241m=\u001b[39m \u001b[38;5;28;01mNone\u001b[39;00m\n\u001b[0;32m     64\u001b[0m \u001b[38;5;28;01mtry\u001b[39;00m:\n\u001b[1;32m---> 65\u001b[0m     \u001b[38;5;28;01mreturn\u001b[39;00m \u001b[43mfn\u001b[49m\u001b[43m(\u001b[49m\u001b[38;5;241;43m*\u001b[39;49m\u001b[43margs\u001b[49m\u001b[43m,\u001b[49m\u001b[43m \u001b[49m\u001b[38;5;241;43m*\u001b[39;49m\u001b[38;5;241;43m*\u001b[39;49m\u001b[43mkwargs\u001b[49m\u001b[43m)\u001b[49m\n\u001b[0;32m     66\u001b[0m \u001b[38;5;28;01mexcept\u001b[39;00m \u001b[38;5;167;01mException\u001b[39;00m \u001b[38;5;28;01mas\u001b[39;00m e:\n\u001b[0;32m     67\u001b[0m     filtered_tb \u001b[38;5;241m=\u001b[39m _process_traceback_frames(e\u001b[38;5;241m.\u001b[39m__traceback__)\n",
      "File \u001b[1;32mc:\\Users\\1\\AppData\\Local\\Programs\\Python\\Python311\\Lib\\site-packages\\keras\\engine\\training.py:1729\u001b[0m, in \u001b[0;36mModel.fit\u001b[1;34m(self, x, y, batch_size, epochs, verbose, callbacks, validation_split, validation_data, shuffle, class_weight, sample_weight, initial_epoch, steps_per_epoch, validation_steps, validation_batch_size, validation_freq, max_queue_size, workers, use_multiprocessing)\u001b[0m\n\u001b[0;32m   1714\u001b[0m \u001b[38;5;28;01mif\u001b[39;00m \u001b[38;5;28mgetattr\u001b[39m(\u001b[38;5;28mself\u001b[39m, \u001b[38;5;124m\"\u001b[39m\u001b[38;5;124m_eval_data_handler\u001b[39m\u001b[38;5;124m\"\u001b[39m, \u001b[38;5;28;01mNone\u001b[39;00m) \u001b[38;5;129;01mis\u001b[39;00m \u001b[38;5;28;01mNone\u001b[39;00m:\n\u001b[0;32m   1715\u001b[0m     \u001b[38;5;28mself\u001b[39m\u001b[38;5;241m.\u001b[39m_eval_data_handler \u001b[38;5;241m=\u001b[39m data_adapter\u001b[38;5;241m.\u001b[39mget_data_handler(\n\u001b[0;32m   1716\u001b[0m         x\u001b[38;5;241m=\u001b[39mval_x,\n\u001b[0;32m   1717\u001b[0m         y\u001b[38;5;241m=\u001b[39mval_y,\n\u001b[1;32m   (...)\u001b[0m\n\u001b[0;32m   1727\u001b[0m         steps_per_execution\u001b[38;5;241m=\u001b[39m\u001b[38;5;28mself\u001b[39m\u001b[38;5;241m.\u001b[39m_steps_per_execution,\n\u001b[0;32m   1728\u001b[0m     )\n\u001b[1;32m-> 1729\u001b[0m val_logs \u001b[38;5;241m=\u001b[39m \u001b[38;5;28;43mself\u001b[39;49m\u001b[38;5;241;43m.\u001b[39;49m\u001b[43mevaluate\u001b[49m\u001b[43m(\u001b[49m\n\u001b[0;32m   1730\u001b[0m \u001b[43m    \u001b[49m\u001b[43mx\u001b[49m\u001b[38;5;241;43m=\u001b[39;49m\u001b[43mval_x\u001b[49m\u001b[43m,\u001b[49m\n\u001b[0;32m   1731\u001b[0m \u001b[43m    \u001b[49m\u001b[43my\u001b[49m\u001b[38;5;241;43m=\u001b[39;49m\u001b[43mval_y\u001b[49m\u001b[43m,\u001b[49m\n\u001b[0;32m   1732\u001b[0m \u001b[43m    \u001b[49m\u001b[43msample_weight\u001b[49m\u001b[38;5;241;43m=\u001b[39;49m\u001b[43mval_sample_weight\u001b[49m\u001b[43m,\u001b[49m\n\u001b[0;32m   1733\u001b[0m \u001b[43m    \u001b[49m\u001b[43mbatch_size\u001b[49m\u001b[38;5;241;43m=\u001b[39;49m\u001b[43mvalidation_batch_size\u001b[49m\u001b[43m \u001b[49m\u001b[38;5;129;43;01mor\u001b[39;49;00m\u001b[43m \u001b[49m\u001b[43mbatch_size\u001b[49m\u001b[43m,\u001b[49m\n\u001b[0;32m   1734\u001b[0m \u001b[43m    \u001b[49m\u001b[43msteps\u001b[49m\u001b[38;5;241;43m=\u001b[39;49m\u001b[43mvalidation_steps\u001b[49m\u001b[43m,\u001b[49m\n\u001b[0;32m   1735\u001b[0m \u001b[43m    \u001b[49m\u001b[43mcallbacks\u001b[49m\u001b[38;5;241;43m=\u001b[39;49m\u001b[43mcallbacks\u001b[49m\u001b[43m,\u001b[49m\n\u001b[0;32m   1736\u001b[0m \u001b[43m    \u001b[49m\u001b[43mmax_queue_size\u001b[49m\u001b[38;5;241;43m=\u001b[39;49m\u001b[43mmax_queue_size\u001b[49m\u001b[43m,\u001b[49m\n\u001b[0;32m   1737\u001b[0m \u001b[43m    \u001b[49m\u001b[43mworkers\u001b[49m\u001b[38;5;241;43m=\u001b[39;49m\u001b[43mworkers\u001b[49m\u001b[43m,\u001b[49m\n\u001b[0;32m   1738\u001b[0m \u001b[43m    \u001b[49m\u001b[43muse_multiprocessing\u001b[49m\u001b[38;5;241;43m=\u001b[39;49m\u001b[43muse_multiprocessing\u001b[49m\u001b[43m,\u001b[49m\n\u001b[0;32m   1739\u001b[0m \u001b[43m    \u001b[49m\u001b[43mreturn_dict\u001b[49m\u001b[38;5;241;43m=\u001b[39;49m\u001b[38;5;28;43;01mTrue\u001b[39;49;00m\u001b[43m,\u001b[49m\n\u001b[0;32m   1740\u001b[0m \u001b[43m    \u001b[49m\u001b[43m_use_cached_eval_dataset\u001b[49m\u001b[38;5;241;43m=\u001b[39;49m\u001b[38;5;28;43;01mTrue\u001b[39;49;00m\u001b[43m,\u001b[49m\n\u001b[0;32m   1741\u001b[0m \u001b[43m\u001b[49m\u001b[43m)\u001b[49m\n\u001b[0;32m   1742\u001b[0m val_logs \u001b[38;5;241m=\u001b[39m {\n\u001b[0;32m   1743\u001b[0m     \u001b[38;5;124m\"\u001b[39m\u001b[38;5;124mval_\u001b[39m\u001b[38;5;124m\"\u001b[39m \u001b[38;5;241m+\u001b[39m name: val \u001b[38;5;28;01mfor\u001b[39;00m name, val \u001b[38;5;129;01min\u001b[39;00m val_logs\u001b[38;5;241m.\u001b[39mitems()\n\u001b[0;32m   1744\u001b[0m }\n\u001b[0;32m   1745\u001b[0m epoch_logs\u001b[38;5;241m.\u001b[39mupdate(val_logs)\n",
      "File \u001b[1;32mc:\\Users\\1\\AppData\\Local\\Programs\\Python\\Python311\\Lib\\site-packages\\keras\\utils\\traceback_utils.py:65\u001b[0m, in \u001b[0;36mfilter_traceback.<locals>.error_handler\u001b[1;34m(*args, **kwargs)\u001b[0m\n\u001b[0;32m     63\u001b[0m filtered_tb \u001b[38;5;241m=\u001b[39m \u001b[38;5;28;01mNone\u001b[39;00m\n\u001b[0;32m     64\u001b[0m \u001b[38;5;28;01mtry\u001b[39;00m:\n\u001b[1;32m---> 65\u001b[0m     \u001b[38;5;28;01mreturn\u001b[39;00m \u001b[43mfn\u001b[49m\u001b[43m(\u001b[49m\u001b[38;5;241;43m*\u001b[39;49m\u001b[43margs\u001b[49m\u001b[43m,\u001b[49m\u001b[43m \u001b[49m\u001b[38;5;241;43m*\u001b[39;49m\u001b[38;5;241;43m*\u001b[39;49m\u001b[43mkwargs\u001b[49m\u001b[43m)\u001b[49m\n\u001b[0;32m     66\u001b[0m \u001b[38;5;28;01mexcept\u001b[39;00m \u001b[38;5;167;01mException\u001b[39;00m \u001b[38;5;28;01mas\u001b[39;00m e:\n\u001b[0;32m     67\u001b[0m     filtered_tb \u001b[38;5;241m=\u001b[39m _process_traceback_frames(e\u001b[38;5;241m.\u001b[39m__traceback__)\n",
      "File \u001b[1;32mc:\\Users\\1\\AppData\\Local\\Programs\\Python\\Python311\\Lib\\site-packages\\keras\\engine\\training.py:2072\u001b[0m, in \u001b[0;36mModel.evaluate\u001b[1;34m(self, x, y, batch_size, verbose, sample_weight, steps, callbacks, max_queue_size, workers, use_multiprocessing, return_dict, **kwargs)\u001b[0m\n\u001b[0;32m   2068\u001b[0m \u001b[38;5;28;01mwith\u001b[39;00m tf\u001b[38;5;241m.\u001b[39mprofiler\u001b[38;5;241m.\u001b[39mexperimental\u001b[38;5;241m.\u001b[39mTrace(\n\u001b[0;32m   2069\u001b[0m     \u001b[38;5;124m\"\u001b[39m\u001b[38;5;124mtest\u001b[39m\u001b[38;5;124m\"\u001b[39m, step_num\u001b[38;5;241m=\u001b[39mstep, _r\u001b[38;5;241m=\u001b[39m\u001b[38;5;241m1\u001b[39m\n\u001b[0;32m   2070\u001b[0m ):\n\u001b[0;32m   2071\u001b[0m     callbacks\u001b[38;5;241m.\u001b[39mon_test_batch_begin(step)\n\u001b[1;32m-> 2072\u001b[0m     tmp_logs \u001b[38;5;241m=\u001b[39m \u001b[38;5;28;43mself\u001b[39;49m\u001b[38;5;241;43m.\u001b[39;49m\u001b[43mtest_function\u001b[49m\u001b[43m(\u001b[49m\u001b[43miterator\u001b[49m\u001b[43m)\u001b[49m\n\u001b[0;32m   2073\u001b[0m     \u001b[38;5;28;01mif\u001b[39;00m data_handler\u001b[38;5;241m.\u001b[39mshould_sync:\n\u001b[0;32m   2074\u001b[0m         context\u001b[38;5;241m.\u001b[39masync_wait()\n",
      "File \u001b[1;32mc:\\Users\\1\\AppData\\Local\\Programs\\Python\\Python311\\Lib\\site-packages\\tensorflow\\python\\util\\traceback_utils.py:150\u001b[0m, in \u001b[0;36mfilter_traceback.<locals>.error_handler\u001b[1;34m(*args, **kwargs)\u001b[0m\n\u001b[0;32m    148\u001b[0m filtered_tb \u001b[38;5;241m=\u001b[39m \u001b[38;5;28;01mNone\u001b[39;00m\n\u001b[0;32m    149\u001b[0m \u001b[38;5;28;01mtry\u001b[39;00m:\n\u001b[1;32m--> 150\u001b[0m   \u001b[38;5;28;01mreturn\u001b[39;00m \u001b[43mfn\u001b[49m\u001b[43m(\u001b[49m\u001b[38;5;241;43m*\u001b[39;49m\u001b[43margs\u001b[49m\u001b[43m,\u001b[49m\u001b[43m \u001b[49m\u001b[38;5;241;43m*\u001b[39;49m\u001b[38;5;241;43m*\u001b[39;49m\u001b[43mkwargs\u001b[49m\u001b[43m)\u001b[49m\n\u001b[0;32m    151\u001b[0m \u001b[38;5;28;01mexcept\u001b[39;00m \u001b[38;5;167;01mException\u001b[39;00m \u001b[38;5;28;01mas\u001b[39;00m e:\n\u001b[0;32m    152\u001b[0m   filtered_tb \u001b[38;5;241m=\u001b[39m _process_traceback_frames(e\u001b[38;5;241m.\u001b[39m__traceback__)\n",
      "File \u001b[1;32mc:\\Users\\1\\AppData\\Local\\Programs\\Python\\Python311\\Lib\\site-packages\\tensorflow\\python\\eager\\polymorphic_function\\polymorphic_function.py:894\u001b[0m, in \u001b[0;36mFunction.__call__\u001b[1;34m(self, *args, **kwds)\u001b[0m\n\u001b[0;32m    891\u001b[0m compiler \u001b[38;5;241m=\u001b[39m \u001b[38;5;124m\"\u001b[39m\u001b[38;5;124mxla\u001b[39m\u001b[38;5;124m\"\u001b[39m \u001b[38;5;28;01mif\u001b[39;00m \u001b[38;5;28mself\u001b[39m\u001b[38;5;241m.\u001b[39m_jit_compile \u001b[38;5;28;01melse\u001b[39;00m \u001b[38;5;124m\"\u001b[39m\u001b[38;5;124mnonXla\u001b[39m\u001b[38;5;124m\"\u001b[39m\n\u001b[0;32m    893\u001b[0m \u001b[38;5;28;01mwith\u001b[39;00m OptionalXlaContext(\u001b[38;5;28mself\u001b[39m\u001b[38;5;241m.\u001b[39m_jit_compile):\n\u001b[1;32m--> 894\u001b[0m   result \u001b[38;5;241m=\u001b[39m \u001b[38;5;28;43mself\u001b[39;49m\u001b[38;5;241;43m.\u001b[39;49m\u001b[43m_call\u001b[49m\u001b[43m(\u001b[49m\u001b[38;5;241;43m*\u001b[39;49m\u001b[43margs\u001b[49m\u001b[43m,\u001b[49m\u001b[43m \u001b[49m\u001b[38;5;241;43m*\u001b[39;49m\u001b[38;5;241;43m*\u001b[39;49m\u001b[43mkwds\u001b[49m\u001b[43m)\u001b[49m\n\u001b[0;32m    896\u001b[0m new_tracing_count \u001b[38;5;241m=\u001b[39m \u001b[38;5;28mself\u001b[39m\u001b[38;5;241m.\u001b[39mexperimental_get_tracing_count()\n\u001b[0;32m    897\u001b[0m without_tracing \u001b[38;5;241m=\u001b[39m (tracing_count \u001b[38;5;241m==\u001b[39m new_tracing_count)\n",
      "File \u001b[1;32mc:\\Users\\1\\AppData\\Local\\Programs\\Python\\Python311\\Lib\\site-packages\\tensorflow\\python\\eager\\polymorphic_function\\polymorphic_function.py:933\u001b[0m, in \u001b[0;36mFunction._call\u001b[1;34m(self, *args, **kwds)\u001b[0m\n\u001b[0;32m    930\u001b[0m \u001b[38;5;28mself\u001b[39m\u001b[38;5;241m.\u001b[39m_lock\u001b[38;5;241m.\u001b[39mrelease()\n\u001b[0;32m    931\u001b[0m \u001b[38;5;66;03m# In this case we have not created variables on the first call. So we can\u001b[39;00m\n\u001b[0;32m    932\u001b[0m \u001b[38;5;66;03m# run the first trace but we should fail if variables are created.\u001b[39;00m\n\u001b[1;32m--> 933\u001b[0m results \u001b[38;5;241m=\u001b[39m \u001b[38;5;28;43mself\u001b[39;49m\u001b[38;5;241;43m.\u001b[39;49m\u001b[43m_variable_creation_fn\u001b[49m\u001b[43m(\u001b[49m\u001b[38;5;241;43m*\u001b[39;49m\u001b[43margs\u001b[49m\u001b[43m,\u001b[49m\u001b[43m \u001b[49m\u001b[38;5;241;43m*\u001b[39;49m\u001b[38;5;241;43m*\u001b[39;49m\u001b[43mkwds\u001b[49m\u001b[43m)\u001b[49m\n\u001b[0;32m    934\u001b[0m \u001b[38;5;28;01mif\u001b[39;00m \u001b[38;5;28mself\u001b[39m\u001b[38;5;241m.\u001b[39m_created_variables \u001b[38;5;129;01mand\u001b[39;00m \u001b[38;5;129;01mnot\u001b[39;00m ALLOW_DYNAMIC_VARIABLE_CREATION:\n\u001b[0;32m    935\u001b[0m   \u001b[38;5;28;01mraise\u001b[39;00m \u001b[38;5;167;01mValueError\u001b[39;00m(\u001b[38;5;124m\"\u001b[39m\u001b[38;5;124mCreating variables on a non-first call to a function\u001b[39m\u001b[38;5;124m\"\u001b[39m\n\u001b[0;32m    936\u001b[0m                    \u001b[38;5;124m\"\u001b[39m\u001b[38;5;124m decorated with tf.function.\u001b[39m\u001b[38;5;124m\"\u001b[39m)\n",
      "File \u001b[1;32mc:\\Users\\1\\AppData\\Local\\Programs\\Python\\Python311\\Lib\\site-packages\\tensorflow\\python\\eager\\polymorphic_function\\tracing_compiler.py:143\u001b[0m, in \u001b[0;36mTracingCompiler.__call__\u001b[1;34m(self, *args, **kwargs)\u001b[0m\n\u001b[0;32m    140\u001b[0m \u001b[38;5;28;01mwith\u001b[39;00m \u001b[38;5;28mself\u001b[39m\u001b[38;5;241m.\u001b[39m_lock:\n\u001b[0;32m    141\u001b[0m   (concrete_function,\n\u001b[0;32m    142\u001b[0m    filtered_flat_args) \u001b[38;5;241m=\u001b[39m \u001b[38;5;28mself\u001b[39m\u001b[38;5;241m.\u001b[39m_maybe_define_function(args, kwargs)\n\u001b[1;32m--> 143\u001b[0m \u001b[38;5;28;01mreturn\u001b[39;00m \u001b[43mconcrete_function\u001b[49m\u001b[38;5;241;43m.\u001b[39;49m\u001b[43m_call_flat\u001b[49m\u001b[43m(\u001b[49m\n\u001b[0;32m    144\u001b[0m \u001b[43m    \u001b[49m\u001b[43mfiltered_flat_args\u001b[49m\u001b[43m,\u001b[49m\u001b[43m \u001b[49m\u001b[43mcaptured_inputs\u001b[49m\u001b[38;5;241;43m=\u001b[39;49m\u001b[43mconcrete_function\u001b[49m\u001b[38;5;241;43m.\u001b[39;49m\u001b[43mcaptured_inputs\u001b[49m\u001b[43m)\u001b[49m\n",
      "File \u001b[1;32mc:\\Users\\1\\AppData\\Local\\Programs\\Python\\Python311\\Lib\\site-packages\\tensorflow\\python\\eager\\polymorphic_function\\monomorphic_function.py:1757\u001b[0m, in \u001b[0;36mConcreteFunction._call_flat\u001b[1;34m(self, args, captured_inputs, cancellation_manager)\u001b[0m\n\u001b[0;32m   1753\u001b[0m possible_gradient_type \u001b[38;5;241m=\u001b[39m gradients_util\u001b[38;5;241m.\u001b[39mPossibleTapeGradientTypes(args)\n\u001b[0;32m   1754\u001b[0m \u001b[38;5;28;01mif\u001b[39;00m (possible_gradient_type \u001b[38;5;241m==\u001b[39m gradients_util\u001b[38;5;241m.\u001b[39mPOSSIBLE_GRADIENT_TYPES_NONE\n\u001b[0;32m   1755\u001b[0m     \u001b[38;5;129;01mand\u001b[39;00m executing_eagerly):\n\u001b[0;32m   1756\u001b[0m   \u001b[38;5;66;03m# No tape is watching; skip to running the function.\u001b[39;00m\n\u001b[1;32m-> 1757\u001b[0m   \u001b[38;5;28;01mreturn\u001b[39;00m \u001b[38;5;28mself\u001b[39m\u001b[38;5;241m.\u001b[39m_build_call_outputs(\u001b[38;5;28;43mself\u001b[39;49m\u001b[38;5;241;43m.\u001b[39;49m\u001b[43m_inference_function\u001b[49m\u001b[38;5;241;43m.\u001b[39;49m\u001b[43mcall\u001b[49m\u001b[43m(\u001b[49m\n\u001b[0;32m   1758\u001b[0m \u001b[43m      \u001b[49m\u001b[43mctx\u001b[49m\u001b[43m,\u001b[49m\u001b[43m \u001b[49m\u001b[43margs\u001b[49m\u001b[43m,\u001b[49m\u001b[43m \u001b[49m\u001b[43mcancellation_manager\u001b[49m\u001b[38;5;241;43m=\u001b[39;49m\u001b[43mcancellation_manager\u001b[49m\u001b[43m)\u001b[49m)\n\u001b[0;32m   1759\u001b[0m forward_backward \u001b[38;5;241m=\u001b[39m \u001b[38;5;28mself\u001b[39m\u001b[38;5;241m.\u001b[39m_select_forward_and_backward_functions(\n\u001b[0;32m   1760\u001b[0m     args,\n\u001b[0;32m   1761\u001b[0m     possible_gradient_type,\n\u001b[0;32m   1762\u001b[0m     executing_eagerly)\n\u001b[0;32m   1763\u001b[0m forward_function, args_with_tangents \u001b[38;5;241m=\u001b[39m forward_backward\u001b[38;5;241m.\u001b[39mforward()\n",
      "File \u001b[1;32mc:\\Users\\1\\AppData\\Local\\Programs\\Python\\Python311\\Lib\\site-packages\\tensorflow\\python\\eager\\polymorphic_function\\monomorphic_function.py:381\u001b[0m, in \u001b[0;36m_EagerDefinedFunction.call\u001b[1;34m(self, ctx, args, cancellation_manager)\u001b[0m\n\u001b[0;32m    379\u001b[0m \u001b[38;5;28;01mwith\u001b[39;00m _InterpolateFunctionError(\u001b[38;5;28mself\u001b[39m):\n\u001b[0;32m    380\u001b[0m   \u001b[38;5;28;01mif\u001b[39;00m cancellation_manager \u001b[38;5;129;01mis\u001b[39;00m \u001b[38;5;28;01mNone\u001b[39;00m:\n\u001b[1;32m--> 381\u001b[0m     outputs \u001b[38;5;241m=\u001b[39m \u001b[43mexecute\u001b[49m\u001b[38;5;241;43m.\u001b[39;49m\u001b[43mexecute\u001b[49m\u001b[43m(\u001b[49m\n\u001b[0;32m    382\u001b[0m \u001b[43m        \u001b[49m\u001b[38;5;28;43mstr\u001b[39;49m\u001b[43m(\u001b[49m\u001b[38;5;28;43mself\u001b[39;49m\u001b[38;5;241;43m.\u001b[39;49m\u001b[43msignature\u001b[49m\u001b[38;5;241;43m.\u001b[39;49m\u001b[43mname\u001b[49m\u001b[43m)\u001b[49m\u001b[43m,\u001b[49m\n\u001b[0;32m    383\u001b[0m \u001b[43m        \u001b[49m\u001b[43mnum_outputs\u001b[49m\u001b[38;5;241;43m=\u001b[39;49m\u001b[38;5;28;43mself\u001b[39;49m\u001b[38;5;241;43m.\u001b[39;49m\u001b[43m_num_outputs\u001b[49m\u001b[43m,\u001b[49m\n\u001b[0;32m    384\u001b[0m \u001b[43m        \u001b[49m\u001b[43minputs\u001b[49m\u001b[38;5;241;43m=\u001b[39;49m\u001b[43margs\u001b[49m\u001b[43m,\u001b[49m\n\u001b[0;32m    385\u001b[0m \u001b[43m        \u001b[49m\u001b[43mattrs\u001b[49m\u001b[38;5;241;43m=\u001b[39;49m\u001b[43mattrs\u001b[49m\u001b[43m,\u001b[49m\n\u001b[0;32m    386\u001b[0m \u001b[43m        \u001b[49m\u001b[43mctx\u001b[49m\u001b[38;5;241;43m=\u001b[39;49m\u001b[43mctx\u001b[49m\u001b[43m)\u001b[49m\n\u001b[0;32m    387\u001b[0m   \u001b[38;5;28;01melse\u001b[39;00m:\n\u001b[0;32m    388\u001b[0m     outputs \u001b[38;5;241m=\u001b[39m execute\u001b[38;5;241m.\u001b[39mexecute_with_cancellation(\n\u001b[0;32m    389\u001b[0m         \u001b[38;5;28mstr\u001b[39m(\u001b[38;5;28mself\u001b[39m\u001b[38;5;241m.\u001b[39msignature\u001b[38;5;241m.\u001b[39mname),\n\u001b[0;32m    390\u001b[0m         num_outputs\u001b[38;5;241m=\u001b[39m\u001b[38;5;28mself\u001b[39m\u001b[38;5;241m.\u001b[39m_num_outputs,\n\u001b[1;32m   (...)\u001b[0m\n\u001b[0;32m    393\u001b[0m         ctx\u001b[38;5;241m=\u001b[39mctx,\n\u001b[0;32m    394\u001b[0m         cancellation_manager\u001b[38;5;241m=\u001b[39mcancellation_manager)\n",
      "File \u001b[1;32mc:\\Users\\1\\AppData\\Local\\Programs\\Python\\Python311\\Lib\\site-packages\\tensorflow\\python\\eager\\execute.py:52\u001b[0m, in \u001b[0;36mquick_execute\u001b[1;34m(op_name, num_outputs, inputs, attrs, ctx, name)\u001b[0m\n\u001b[0;32m     50\u001b[0m \u001b[38;5;28;01mtry\u001b[39;00m:\n\u001b[0;32m     51\u001b[0m   ctx\u001b[38;5;241m.\u001b[39mensure_initialized()\n\u001b[1;32m---> 52\u001b[0m   tensors \u001b[38;5;241m=\u001b[39m \u001b[43mpywrap_tfe\u001b[49m\u001b[38;5;241;43m.\u001b[39;49m\u001b[43mTFE_Py_Execute\u001b[49m\u001b[43m(\u001b[49m\u001b[43mctx\u001b[49m\u001b[38;5;241;43m.\u001b[39;49m\u001b[43m_handle\u001b[49m\u001b[43m,\u001b[49m\u001b[43m \u001b[49m\u001b[43mdevice_name\u001b[49m\u001b[43m,\u001b[49m\u001b[43m \u001b[49m\u001b[43mop_name\u001b[49m\u001b[43m,\u001b[49m\n\u001b[0;32m     53\u001b[0m \u001b[43m                                      \u001b[49m\u001b[43minputs\u001b[49m\u001b[43m,\u001b[49m\u001b[43m \u001b[49m\u001b[43mattrs\u001b[49m\u001b[43m,\u001b[49m\u001b[43m \u001b[49m\u001b[43mnum_outputs\u001b[49m\u001b[43m)\u001b[49m\n\u001b[0;32m     54\u001b[0m \u001b[38;5;28;01mexcept\u001b[39;00m core\u001b[38;5;241m.\u001b[39m_NotOkStatusException \u001b[38;5;28;01mas\u001b[39;00m e:\n\u001b[0;32m     55\u001b[0m   \u001b[38;5;28;01mif\u001b[39;00m name \u001b[38;5;129;01mis\u001b[39;00m \u001b[38;5;129;01mnot\u001b[39;00m \u001b[38;5;28;01mNone\u001b[39;00m:\n",
      "\u001b[1;31mKeyboardInterrupt\u001b[0m: "
     ]
    }
   ],
   "source": [
    "cm_history = conv_model.fit_generator(train_data,\n",
    "                         steps_per_epoch=30,\n",
    "                         epochs=20,\n",
    "                         validation_data=test_data,\n",
    "                         validation_steps=30)\n"
   ]
  },
  {
   "cell_type": "code",
   "execution_count": null,
   "metadata": {},
   "outputs": [],
   "source": [
    "losses_history = [np.asarray(cm_history.history[\"loss\"]), np.asarray(cm_history.history[\"val_loss\"])]\n",
    "acces_history = [np.asarray(cm_history.history[\"acc\"]), np.asarray(cm_history.history[\"val_acc\"])]\n",
    "colors_list = [\"red\", \"blue\"]\n",
    "labels_list = [[\"loss\", \"acc\"], [\"val loss\", \"val acc\"]]\n"
   ]
  },
  {
   "cell_type": "code",
   "execution_count": null,
   "metadata": {},
   "outputs": [
    {
     "data": {
      "image/png": "[encoded data removed]",
      "text/plain": [
       "<Figure size 640x480 with 2 Axes>"
      ]
     },
     "metadata": {},
     "output_type": "display_data"
    }
   ],
   "source": [
    "plt.style.use(\"dark_background\")\n",
    "fig, axis = plt.subplots(nrows=2)\n",
    "\n",
    "for (loss, acc, color, label) in zip(losses_history, acces_history, colors_list, labels_list):\n",
    "    axis[0].plot(range(1, loss.shape[0] + 1), loss, color=color, label=label[0])\n",
    "    axis[0].fill_between(range(1, loss.shape[0] + 1), loss - 0.12, loss + 0.12, color=color, alpha=0.23)\n",
    "    axis[1].plot(range(1, acc.shape[0] + 1), acc, color=color, label=label[1])\n",
    "    axis[1].fill_between(range(1, acc.shape[0] + 1), acc - 0.12, acc + 0.12, alpha=0.23)\n",
    "\n",
    "axis[0].legend(loc=\"upper left\")\n",
    "axis[1].legend(loc=\"upper left\")\n",
    "plt.show()"
   ]
  },
  {
   "cell_type": "code",
   "execution_count": 40,
   "metadata": {},
   "outputs": [
    {
     "name": "stdout",
     "output_type": "stream",
     "text": [
      "4/4 [==============================] - 1s 106ms/step\n",
      "[[0.7658848 ]\n",
      " [0.77272594]\n",
      " [0.7800522 ]\n",
      " [0.7752941 ]\n",
      " [0.8031993 ]\n",
      " [0.7843379 ]\n",
      " [0.8022899 ]\n",
      " [0.7786607 ]\n",
      " [0.7742541 ]\n",
      " [0.78346694]\n",
      " [0.7771964 ]\n",
      " [0.78364104]\n",
      " [0.7740523 ]\n",
      " [0.8024592 ]\n",
      " [0.7836257 ]\n",
      " [0.79062337]\n",
      " [0.79542863]\n",
      " [0.78226626]\n",
      " [0.7997332 ]\n",
      " [0.7943563 ]\n",
      " [0.76638335]\n",
      " [0.7945302 ]\n",
      " [0.79840744]\n",
      " [0.7728773 ]\n",
      " [0.7858824 ]\n",
      " [0.8048706 ]\n",
      " [0.7526049 ]\n",
      " [0.8039501 ]\n",
      " [0.81048137]\n",
      " [0.77407694]\n",
      " [0.80330634]\n",
      " [0.7948733 ]\n",
      " [0.7871935 ]\n",
      " [0.7721282 ]\n",
      " [0.7976    ]\n",
      " [0.80125296]\n",
      " [0.8176216 ]\n",
      " [0.7844957 ]\n",
      " [0.8093473 ]\n",
      " [0.8007831 ]\n",
      " [0.80286604]\n",
      " [0.76564926]\n",
      " [0.7871427 ]\n",
      " [0.781423  ]\n",
      " [0.78418475]\n",
      " [0.8036742 ]\n",
      " [0.78212017]\n",
      " [0.7933997 ]\n",
      " [0.7842551 ]\n",
      " [0.78641796]\n",
      " [0.7682412 ]\n",
      " [0.82042795]\n",
      " [0.8057448 ]\n",
      " [0.7721656 ]\n",
      " [0.7777675 ]\n",
      " [0.76450807]\n",
      " [0.8044549 ]\n",
      " [0.77484196]\n",
      " [0.7751513 ]\n",
      " [0.7743131 ]\n",
      " [0.7657181 ]\n",
      " [0.8004438 ]\n",
      " [0.7841861 ]\n",
      " [0.7895572 ]\n",
      " [0.8142802 ]\n",
      " [0.77701205]\n",
      " [0.7784457 ]\n",
      " [0.79184043]\n",
      " [0.8065685 ]\n",
      " [0.7507997 ]\n",
      " [0.78342676]\n",
      " [0.7886564 ]\n",
      " [0.8124613 ]\n",
      " [0.7829426 ]\n",
      " [0.8171406 ]\n",
      " [0.8089575 ]\n",
      " [0.7710902 ]\n",
      " [0.78106534]\n",
      " [0.80330706]\n",
      " [0.7633112 ]\n",
      " [0.7467667 ]\n",
      " [0.79817045]\n",
      " [0.80906653]\n",
      " [0.7737526 ]\n",
      " [0.7729783 ]\n",
      " [0.7702437 ]\n",
      " [0.81177664]\n",
      " [0.76562935]\n",
      " [0.79288   ]\n",
      " [0.7864262 ]\n",
      " [0.76668173]\n",
      " [0.7897186 ]\n",
      " [0.7869667 ]\n",
      " [0.7637418 ]\n",
      " [0.7882955 ]\n",
      " [0.7986854 ]\n",
      " [0.7853126 ]\n",
      " [0.7844741 ]\n",
      " [0.8056483 ]\n",
      " [0.7692342 ]]\n"
     ]
    }
   ],
   "source": [
    "images_dir = \"C:\\\\Users\\\\1\\\\Desktop\\\\reinforcment_deep_ML\\\\data_set\\\\test\\\\normal\"\n",
    "image_tensor = np.zeros(shape=(100, 214, 214, 3))\n",
    "for image_index in range(image_tensor.shape[0]):\n",
    "    image = cv2.imread(f\"C:\\\\Users\\\\1\\\\Desktop\\\\reinforcment_deep_ML\\\\data_set\\\\test\\\\normal\\\\{image_index}.jpg\")\n",
    "    image = np.asarray(image)\n",
    "    image_tensor[image_index, :, :, :] = image\n",
    "\n",
    "prediction = conv_model.predict(image_tensor)\n",
    "print(prediction)"
   ]
  },
  {
   "cell_type": "code",
   "execution_count": null,
   "metadata": {},
   "outputs": [],
   "source": [
    "# text_vocabulary_size = 10000\n",
    "# question_vocabulary_size = 10000\n",
    "# answer_vocabulary_size = 500\n",
    "\n",
    "# text_input = tf.keras.Input(shape=(None, ), dtype=\"int32\", name=\"text\")\n",
    "# embedded_text = tf.keras.layers.Embedding(text_vocabulary_size, 64)(text_input)\n",
    "# encoded_text = tf.keras.layers.LSTM(32)(embedded_text)\n",
    "# question_input = tf.keras.Input(shape=(None, ), dtype=\"int32\", name=\"question\")\n",
    "# embedded_question = tf.keras.layers.Embedding(question_vocabulary_size, 32)(question_input)\n",
    "# encoded_question = tf.keras.layers.LSTM(16)(embedded_question)\n",
    "\n",
    "# concatenate = tf.keras.layers.concatenate([encoded_text, encoded_question], axis=-1)\n",
    "# answer = tf.keras.layers.Dense(answer_vocabulary_size, activation=\"softmax\")(concatenate)\n",
    "\n",
    "# model = tf.keras.Model([text_input, question_input], answer)\n",
    "# model.compile(\n",
    "#     optimizer=\"rmsprop\",\n",
    "#     loss=\"categorical_crossentropy\",\n",
    "#     metrics=[\"acc\"]\n",
    "# )"
   ]
  },
  {
   "cell_type": "code",
   "execution_count": null,
   "metadata": {},
   "outputs": [
    {
     "name": "stdout",
     "output_type": "stream",
     "text": [
      "Epoch 1/10\n",
      "8/8 [==============================] - 3s 56ms/step - loss: 6.2146 - acc: 0.0020\n",
      "Epoch 2/10\n",
      "8/8 [==============================] - 0s 55ms/step - loss: 6.2095 - acc: 0.0050\n",
      "Epoch 3/10\n",
      "8/8 [==============================] - 0s 55ms/step - loss: 6.2057 - acc: 0.0060\n",
      "Epoch 4/10\n",
      "8/8 [==============================] - 0s 60ms/step - loss: 6.2019 - acc: 0.0050\n",
      "Epoch 5/10\n",
      "8/8 [==============================] - 0s 55ms/step - loss: 6.1975 - acc: 0.0070\n",
      "Epoch 6/10\n",
      "8/8 [==============================] - 0s 55ms/step - loss: 6.1906 - acc: 0.0060\n",
      "Epoch 7/10\n",
      "8/8 [==============================] - 0s 51ms/step - loss: 6.1689 - acc: 0.0030\n",
      "Epoch 8/10\n",
      "8/8 [==============================] - 0s 56ms/step - loss: 6.1296 - acc: 0.0060\n",
      "Epoch 9/10\n",
      "8/8 [==============================] - 0s 55ms/step - loss: 6.0936 - acc: 0.0070\n",
      "Epoch 10/10\n",
      "8/8 [==============================] - 0s 56ms/step - loss: 6.0628 - acc: 0.0080\n"
     ]
    },
    {
     "data": {
      "text/plain": [
       "<keras.callbacks.History at 0x21a032c4150>"
      ]
     },
     "execution_count": 23,
     "metadata": {},
     "output_type": "execute_result"
    }
   ],
   "source": [
    "# num_samples = 1000\n",
    "# max_length = 100\n",
    "\n",
    "# text = np.random.randint(1, text_vocabulary_size, size=(num_samples, max_length))\n",
    "# question = np.random.randint(1, question_vocabulary_size, size=(num_samples, max_length))\n",
    "# answer = np.zeros(shape=(num_samples, answer_vocabulary_size))\n",
    "# indices = np.random.randint(0, answer_vocabulary_size, size=num_samples)\n",
    "# for (index, x) in enumerate(answer):\n",
    "#     x[indices[index]] = 1\n",
    "\n",
    "# model.fit([text, question], answer, epochs=10, batch_size=128)"
   ]
  },
  {
   "cell_type": "markdown",
   "metadata": {},
   "source": [
    "Модель с несколькими выходами"
   ]
  },
  {
   "cell_type": "code",
   "execution_count": 42,
   "metadata": {},
   "outputs": [],
   "source": [
    "vocabulary_size = 5000\n",
    "num_income_groups = 10\n",
    "\n",
    "posts_input = tf.keras.Input(shape=(None, ), dtype=\"int32\", name=\"posts\")\n",
    "embedded_posts = tf.keras.layers.Embedding(256, vocabulary_size)(posts_input)\n",
    "x_layer = tf.keras.layers.Conv1D(128, 5, activation=\"relu\")(embedded_posts)\n",
    "x_layer = tf.keras.layers.MaxPooling1D(5)(x_layer)\n",
    "x_layer = tf.keras.layers.Conv1D(256, 5, activation=\"relu\")(x_layer)\n",
    "x_layer = tf.keras.layers.Conv1D(256, 5, activation=\"relu\")(x_layer)\n",
    "x_layer = tf.keras.layers.MaxPooling1D(5)(x_layer)\n",
    "x_layer = tf.keras.layers.Conv1D(256, 5, activation=\"relu\")(x_layer)\n",
    "x_layer = tf.keras.layers.Conv1D(256, 5, activation=\"relu\")(x_layer)\n",
    "x_layer = tf.keras.layers.GlobalMaxPooling1D()(x_layer)\n",
    "x_layer = tf.keras.layers.Dense(128, activation=\"relu\")(x_layer)\n",
    "\n",
    "age_prediction = tf.keras.layers.Dense(1, name=\"age\")(x_layer)\n",
    "income_prediction = tf.keras.layers.Dense(num_income_groups, activation=\"softmax\", name=\"income\")(x_layer)\n",
    "gender_prediction = tf.keras.layers.Dense(1, activation=\"sigmoid\", name=\"gender\")(x_layer)\n",
    "\n",
    "model = tf.keras.Model(posts_input, \n",
    "                       [age_prediction, income_prediction, gender_prediction])\n",
    "\n",
    "model.compile(optimizer=\"rmsprop\",\n",
    "              loss={\n",
    "                  \"age\": \"mse\",\n",
    "                  \"income\": \"categorical_crossentropy\",\n",
    "                  \"gender\": \"binary_crossentropy\"\n",
    "              },\n",
    "              metrics={\n",
    "                  \"age\": \"mae\",\n",
    "                  \"income\": \"acc\",\n",
    "                  \"gender\": \"acc\"\n",
    "              },\n",
    "              loss_weights={\n",
    "                  \"age\": 0.25,\n",
    "                  \"income\": 1.,\n",
    "                  \"gender\": 10.\n",
    "              })\n"
   ]
  },
  {
   "cell_type": "markdown",
   "metadata": {},
   "source": [
    "реализация графоподобной сети inception"
   ]
  },
  {
   "cell_type": "code",
   "execution_count": null,
   "metadata": {},
   "outputs": [],
   "source": [
    "x_input_layer = tf.keras.Input((214, 214, 3))\n",
    "\n",
    "branch_layer_a = tf.keras.layers.Conv2D(128, (1, 1), strides=2, activation=\"relu\")(x_input_layer)\n",
    "\n",
    "branch_layer_b = tf.keras.layers.Conv2D(128, (1, 1), activation=\"relu\")(x_input_layer)\n",
    "branch_layer_b = tf.keras.layers.Conv2D(128, (3, 3), strides=2, activation=\"relu\")(branch_layer_b)\n",
    "\n",
    "branch_layer_c = tf.keras.layers.AvgPool2D((3, 3), strides=2)(x_input_layer)\n",
    "branch_layer_c = tf.keras.layers.Conv2D(128, (3, 3), activation=\"relu\")(branch_layer_c)\n",
    "\n",
    "branch_layer_d = tf.keras.layers.Conv2D(128, (1, 1), activation=\"relu\")(x_input_layer)\n",
    "branch_layer_d = tf.keras.layers.Conv2D(128, (3, 3), activation=\"relu\")(branch_layer_d)\n",
    "branch_layer_d = tf.keras.layers.Conv2D(128, (3, 3), strides=2, activation=\"relu\")(branch_layer_d)\n",
    "\n",
    "output_layer = tf.keras.layers.concatenate([branch_layer_a, branch_layer_b, branch_layer_c, branch_layer_d], axis=-1)\n"
   ]
  },
  {
   "cell_type": "markdown",
   "metadata": {},
   "source": [
    "пример повторного использования остаточных весов"
   ]
  },
  {
   "cell_type": "code",
   "execution_count": null,
   "metadata": {},
   "outputs": [],
   "source": [
    "lstm_layer = tf.keras.layers.LSTM(23)\n",
    "\n",
    "left_input = tf.keras.Input(shape=(None, 128))\n",
    "left_output = lstm_layer(left_input)\n",
    "\n",
    "right_input = tf.keras.Input(shape=(None, 128))\n",
    "right_output = lstm_layer(right_input)\n",
    "\n",
    "merged_layer = tf.keras.layers.concatenate([left_output, right_output], axis=-1)\n",
    "predictions_layer = tf.keras.layers.Dense(1, activation=\"sigmoid\")(merged_layer)\n",
    "\n",
    "model = tf.keras.Model([left_input, right_input], predictions_layer)\n",
    "model.compile(\n",
    "    optimizer=\"rmsprop\",\n",
    "    loss=\"binary_crossentropy\",\n",
    "    metrics=[\"acc\"]\n",
    ")\n"
   ]
  },
  {
   "cell_type": "markdown",
   "metadata": {},
   "source": [
    "Повторное использование модели как слоя для обработки разных водов"
   ]
  },
  {
   "cell_type": "code",
   "execution_count": 6,
   "metadata": {},
   "outputs": [
    {
     "name": "stdout",
     "output_type": "stream",
     "text": [
      "KerasTensor(type_spec=TensorSpec(shape=(None, 214, 214, 6), dtype=tf.float32, name=None), name='concatenate/concat:0', description=\"created by layer 'concatenate'\")\n"
     ]
    }
   ],
   "source": [
    "xecption_model = tf.keras.applications.Xception(weights=None, include_top=False)\n",
    "\n",
    "rights_image = tf.keras.Input((214, 214, 3))\n",
    "left_image = tf.keras.Input((214, 214, 3))\n",
    "\n",
    "right_image_output = xecption_model(rights_image)\n",
    "left_image_output = xecption_model(left_image)\n",
    "concatenate_layer = tf.keras.layers.concatenate([rights_image, left_image], axis=-1)\n",
    "\n",
    "print(concatenate_layer)"
   ]
  }
 ],
 "metadata": {
  "kernelspec": {
   "display_name": "Python 3",
   "language": "python",
   "name": "python3"
  },
  "language_info": {
   "codemirror_mode": {
    "name": "ipython",
    "version": 3
   },
   "file_extension": ".py",
   "mimetype": "text/x-python",
   "name": "python",
   "nbconvert_exporter": "python",
   "pygments_lexer": "ipython3",
   "version": "3.11.3"
  }
 },
 "nbformat": 4,
 "nbformat_minor": 2
}
