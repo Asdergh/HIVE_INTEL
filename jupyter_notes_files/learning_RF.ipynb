{
 "cells": [
  {
   "cell_type": "code",
   "execution_count": 2,
   "metadata": {},
   "outputs": [],
   "source": [
    "import numpy as np\n",
    "import pandas as pd\n",
    "import torch as th\n",
    "import matplotlib.pyplot as plt\n",
    "import gym as gm\n"
   ]
  },
  {
   "cell_type": "markdown",
   "metadata": {},
   "source": [
    "минимальная реализация REINFORCE алгоритма"
   ]
  },
  {
   "cell_type": "code",
   "execution_count": 3,
   "metadata": {},
   "outputs": [],
   "source": [
    "gamma = 0.99\n",
    "class PI(th.nn.Module):\n",
    "\n",
    "    def __init__(self, in_dim, out_dim, *args, **kwargs) -> None:\n",
    "        super().__init__(*args, **kwargs)\n",
    "        \n",
    "        self.layers = [\n",
    "            th.nn.Linear(in_dim, 64),\n",
    "            th.nn.ReLU(),\n",
    "            th.nn.Linear(64, out_dim)\n",
    "        ]\n",
    "        self.model = th.nn.Sequential(*self.layers)\n",
    "        self.onpolicy_reset()\n",
    "        self.train()\n",
    "    \n",
    "    def onpolicy_reset(self):\n",
    "\n",
    "        self.log_probs_list = []\n",
    "        self.rewards_list = []\n",
    "    \n",
    "    def forward(self, x):\n",
    "        \n",
    "        self.pd_param = self.model(x)\n",
    "    \n",
    "    def act(self, state):\n",
    "\n",
    "        self.x = th.from_numpy(state.astype(np.float32))\n",
    "        self.forward(self.x)\n",
    "        self.pd = th.distributions.Categorical(self.pd_param)\n",
    "        self.action = self.pd.sample()\n",
    "        self.log_prob = self.pd.log_prob(self.action)\n",
    "        self.log_probs_list.append(self.log_prob)\n",
    "        \n",
    "        return self.action.item()\n",
    "\n"
   ]
  },
  {
   "cell_type": "code",
   "execution_count": 4,
   "metadata": {},
   "outputs": [],
   "source": [
    "def train(pi, optimizer):\n",
    "\n",
    "    T = len(pi.rewards_list)\n",
    "    rets = np.empty(T, dtype=np.float32)\n",
    "    future_ret = 0.0\n",
    "\n",
    "    for curent_t in range(T):\n",
    "        future_ret = pi.rewards_list[curent_t] + gamma * future_ret\n",
    "        rets[curent_t] = future_ret\n",
    "    \n",
    "    rets = th.tensor(rets)\n",
    "    log_probs_tensor = th.stack(pi.log_probs_list)\n",
    "    loss = -log_probs_tensor * rets\n",
    "    loss = th.sum(loss)\n",
    "    optimizer.zero_grad()\n",
    "    loss.backward()\n",
    "    optimizer.step()\n",
    "\n",
    "    return loss\n"
   ]
  },
  {
   "cell_type": "code",
   "execution_count": 5,
   "metadata": {},
   "outputs": [
    {
     "ename": "SyntaxError",
     "evalue": "invalid syntax (3936862839.py, line 20)",
     "output_type": "error",
     "traceback": [
      "\u001b[1;36m  Cell \u001b[1;32mIn[5], line 20\u001b[1;36m\u001b[0m\n\u001b[1;33m    loss = train(pi, optimizer)h\u001b[0m\n\u001b[1;37m                               ^\u001b[0m\n\u001b[1;31mSyntaxError\u001b[0m\u001b[1;31m:\u001b[0m invalid syntax\n"
     ]
    }
   ],
   "source": [
    "def main():\n",
    "\n",
    "    env = gm.make(\"CartPole-v0\")\n",
    "    in_dim = env.observation_space.shape[0]\n",
    "    out_dim = env.action_space.n\n",
    "    pi = PI(in_dim, out_dim)\n",
    "    optimizer = th.optim.Adam(pi.parameters(), lr=0.01)\n",
    "    for epi in range(300):\n",
    "\n",
    "        state = env.reset()[0]\n",
    "        for t in range(200):\n",
    "            print(state)\n",
    "            action = pi.act(state)\n",
    "            state, reward, done, truncated, info = env.step(action)\n",
    "            pi.rewards_list.append(reward)\n",
    "            env.render()\n",
    "            if done:\n",
    "                break\n",
    "            \n",
    "        loss = train(pi, optimizer)\n",
    "        total_reward = sum(pi.rewards_list)\n",
    "        solved = total_reward > 195.0\n",
    "        pi.onpolicy_reset()\n",
    "        print(f\"Epizode {epi}, loss: {loss}, total_reward: {total_reward}, solved: {solved}\")\n",
    "        print(pi.rewards_list)\n",
    "\n",
    "main()"
   ]
  },
  {
   "cell_type": "code",
   "execution_count": 29,
   "metadata": {},
   "outputs": [
    {
     "ename": "RuntimeError",
     "evalue": "mat1 and mat2 must have the same dtype",
     "output_type": "error",
     "traceback": [
      "\u001b[1;31m---------------------------------------------------------------------------\u001b[0m",
      "\u001b[1;31mRuntimeError\u001b[0m                              Traceback (most recent call last)",
      "\u001b[1;32mc:\\Users\\1\\Desktop\\reinforcment_deep_ML\\jupyter_notes_files\\learning_RF.ipynb Cell 6\u001b[0m line \u001b[0;36m8\n\u001b[0;32m      <a href='vscode-notebook-cell:/c%3A/Users/1/Desktop/reinforcment_deep_ML/jupyter_notes_files/learning_RF.ipynb#W5sZmlsZQ%3D%3D?line=5'>6</a>\u001b[0m new_test_model \u001b[39m=\u001b[39m th\u001b[39m.\u001b[39mnn\u001b[39m.\u001b[39mSequential(\u001b[39m*\u001b[39mtest_layers)\n\u001b[0;32m      <a href='vscode-notebook-cell:/c%3A/Users/1/Desktop/reinforcment_deep_ML/jupyter_notes_files/learning_RF.ipynb#W5sZmlsZQ%3D%3D?line=6'>7</a>\u001b[0m test_data \u001b[39m=\u001b[39m th\u001b[39m.\u001b[39mfrom_numpy(np\u001b[39m.\u001b[39mrandom\u001b[39m.\u001b[39mnormal(\u001b[39m5.5671\u001b[39m, \u001b[39m11.1\u001b[39m, (\u001b[39m100\u001b[39m, \u001b[39m100\u001b[39m)))\n\u001b[1;32m----> <a href='vscode-notebook-cell:/c%3A/Users/1/Desktop/reinforcment_deep_ML/jupyter_notes_files/learning_RF.ipynb#W5sZmlsZQ%3D%3D?line=7'>8</a>\u001b[0m teste_net_output \u001b[39m=\u001b[39m new_test_model\u001b[39m.\u001b[39;49mforward(test_data)\n\u001b[0;32m      <a href='vscode-notebook-cell:/c%3A/Users/1/Desktop/reinforcment_deep_ML/jupyter_notes_files/learning_RF.ipynb#W5sZmlsZQ%3D%3D?line=8'>9</a>\u001b[0m \u001b[39mprint\u001b[39m(teste_net_output)\n",
      "File \u001b[1;32mc:\\Users\\1\\AppData\\Local\\Programs\\Python\\Python311\\Lib\\site-packages\\torch\\nn\\modules\\container.py:217\u001b[0m, in \u001b[0;36mSequential.forward\u001b[1;34m(self, input)\u001b[0m\n\u001b[0;32m    215\u001b[0m \u001b[39mdef\u001b[39;00m \u001b[39mforward\u001b[39m(\u001b[39mself\u001b[39m, \u001b[39minput\u001b[39m):\n\u001b[0;32m    216\u001b[0m     \u001b[39mfor\u001b[39;00m module \u001b[39min\u001b[39;00m \u001b[39mself\u001b[39m:\n\u001b[1;32m--> 217\u001b[0m         \u001b[39minput\u001b[39m \u001b[39m=\u001b[39m module(\u001b[39minput\u001b[39;49m)\n\u001b[0;32m    218\u001b[0m     \u001b[39mreturn\u001b[39;00m \u001b[39minput\u001b[39m\n",
      "File \u001b[1;32mc:\\Users\\1\\AppData\\Local\\Programs\\Python\\Python311\\Lib\\site-packages\\torch\\nn\\modules\\module.py:1501\u001b[0m, in \u001b[0;36mModule._call_impl\u001b[1;34m(self, *args, **kwargs)\u001b[0m\n\u001b[0;32m   1496\u001b[0m \u001b[39m# If we don't have any hooks, we want to skip the rest of the logic in\u001b[39;00m\n\u001b[0;32m   1497\u001b[0m \u001b[39m# this function, and just call forward.\u001b[39;00m\n\u001b[0;32m   1498\u001b[0m \u001b[39mif\u001b[39;00m \u001b[39mnot\u001b[39;00m (\u001b[39mself\u001b[39m\u001b[39m.\u001b[39m_backward_hooks \u001b[39mor\u001b[39;00m \u001b[39mself\u001b[39m\u001b[39m.\u001b[39m_backward_pre_hooks \u001b[39mor\u001b[39;00m \u001b[39mself\u001b[39m\u001b[39m.\u001b[39m_forward_hooks \u001b[39mor\u001b[39;00m \u001b[39mself\u001b[39m\u001b[39m.\u001b[39m_forward_pre_hooks\n\u001b[0;32m   1499\u001b[0m         \u001b[39mor\u001b[39;00m _global_backward_pre_hooks \u001b[39mor\u001b[39;00m _global_backward_hooks\n\u001b[0;32m   1500\u001b[0m         \u001b[39mor\u001b[39;00m _global_forward_hooks \u001b[39mor\u001b[39;00m _global_forward_pre_hooks):\n\u001b[1;32m-> 1501\u001b[0m     \u001b[39mreturn\u001b[39;00m forward_call(\u001b[39m*\u001b[39;49margs, \u001b[39m*\u001b[39;49m\u001b[39m*\u001b[39;49mkwargs)\n\u001b[0;32m   1502\u001b[0m \u001b[39m# Do not call functions when jit is used\u001b[39;00m\n\u001b[0;32m   1503\u001b[0m full_backward_hooks, non_full_backward_hooks \u001b[39m=\u001b[39m [], []\n",
      "File \u001b[1;32mc:\\Users\\1\\AppData\\Local\\Programs\\Python\\Python311\\Lib\\site-packages\\torch\\nn\\modules\\linear.py:114\u001b[0m, in \u001b[0;36mLinear.forward\u001b[1;34m(self, input)\u001b[0m\n\u001b[0;32m    113\u001b[0m \u001b[39mdef\u001b[39;00m \u001b[39mforward\u001b[39m(\u001b[39mself\u001b[39m, \u001b[39minput\u001b[39m: Tensor) \u001b[39m-\u001b[39m\u001b[39m>\u001b[39m Tensor:\n\u001b[1;32m--> 114\u001b[0m     \u001b[39mreturn\u001b[39;00m F\u001b[39m.\u001b[39;49mlinear(\u001b[39minput\u001b[39;49m, \u001b[39mself\u001b[39;49m\u001b[39m.\u001b[39;49mweight, \u001b[39mself\u001b[39;49m\u001b[39m.\u001b[39;49mbias)\n",
      "\u001b[1;31mRuntimeError\u001b[0m: mat1 and mat2 must have the same dtype"
     ]
    }
   ],
   "source": [
    "test_layers = [\n",
    "    th.nn.Linear(100, 64),\n",
    "    th.nn.ReLU(),\n",
    "    th.nn.Linear(100, 64)\n",
    "]\n",
    "new_test_model = th.nn.Sequential(*test_layers)\n",
    "test_data = th.from_numpy(np.random.normal(5.5671, 11.1, (100, 100)))\n",
    "teste_net_output = new_test_model.forward(test_data)\n",
    "print(teste_net_output)"
   ]
  },
  {
   "cell_type": "code",
   "execution_count": 27,
   "metadata": {},
   "outputs": [
    {
     "name": "stdout",
     "output_type": "stream",
     "text": [
      "torch.Size([2334, 100]) torch.Size([2334, 20])\n"
     ]
    }
   ],
   "source": [
    "m = th.nn.Linear(20, 100)\n",
    "input = th.randn(2334, 20)\n",
    "output = m(input)\n",
    "print(output.size(), input.size())"
   ]
  },
  {
   "cell_type": "code",
   "execution_count": null,
   "metadata": {},
   "outputs": [],
   "source": []
  }
 ],
 "metadata": {
  "kernelspec": {
   "display_name": "Python 3",
   "language": "python",
   "name": "python3"
  },
  "language_info": {
   "codemirror_mode": {
    "name": "ipython",
    "version": 3
   },
   "file_extension": ".py",
   "mimetype": "text/x-python",
   "name": "python",
   "nbconvert_exporter": "python",
   "pygments_lexer": "ipython3",
   "version": "3.11.3"
  },
  "orig_nbformat": 4
 },
 "nbformat": 4,
 "nbformat_minor": 2
}
