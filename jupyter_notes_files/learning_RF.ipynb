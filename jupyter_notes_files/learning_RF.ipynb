{
 "cells": [
  {
   "cell_type": "code",
   "execution_count": 5,
   "metadata": {},
   "outputs": [],
   "source": [
    "import numpy as np\n",
    "import pandas as pd\n",
    "import torch as th\n",
    "import matplotlib.pyplot as plt\n",
    "import gym as gm\n"
   ]
  },
  {
   "cell_type": "markdown",
   "metadata": {},
   "source": [
    "минимальная реализация REINFORCE алгоритма:"
   ]
  },
  {
   "cell_type": "markdown",
   "metadata": {},
   "source": [
    "реализация класса генерации стратегии PI"
   ]
  },
  {
   "cell_type": "code",
   "execution_count": 2,
   "metadata": {},
   "outputs": [],
   "source": [
    "gamma = 0.99\n",
    "class PI(th.nn.Module):\n",
    "\n",
    "    def __init__(self, in_dim, out_dim, *args, **kwargs) -> None:\n",
    "        super().__init__(*args, **kwargs)\n",
    "        \n",
    "        self.layers = [\n",
    "            th.nn.Linear(in_dim, 64),\n",
    "            th.nn.ReLU(),\n",
    "            th.nn.Linear(64, out_dim)\n",
    "        ]\n",
    "        self.model = th.nn.Sequential(*self.layers)\n",
    "        self.onpolicy_reset()\n",
    "        self.train()\n",
    "    \n",
    "    def onpolicy_reset(self):\n",
    "\n",
    "        self.log_probs_list = []\n",
    "        self.rewards_list = []\n",
    "    \n",
    "    def forward(self, x):\n",
    "        \n",
    "        self.pd_param = self.model(x)\n",
    "    \n",
    "    def act(self, state):\n",
    "\n",
    "        self.x = th.from_numpy(state.astype(np.float32))\n",
    "        self.forward(self.x)\n",
    "        self.pd = th.distributions.Categorical(self.pd_param)\n",
    "        self.action = self.pd.sample()\n",
    "        self.log_prob = self.pd.log_prob(self.action)\n",
    "        self.log_probs_list.append(self.log_prob)\n",
    "        \n",
    "        return self.action.item()\n",
    "\n"
   ]
  },
  {
   "cell_type": "markdown",
   "metadata": {},
   "source": [
    "реализация цикла обучения train"
   ]
  },
  {
   "cell_type": "code",
   "execution_count": 3,
   "metadata": {},
   "outputs": [],
   "source": [
    "def train(pi, optimizer):\n",
    "\n",
    "    T = len(pi.rewards_list)\n",
    "    rets = np.empty(T, dtype=np.float32)\n",
    "    future_ret = 0.0\n",
    "\n",
    "    for curent_t in range(T):\n",
    "        future_ret = pi.rewards_list[curent_t] + gamma * future_ret\n",
    "        rets[curent_t] = future_ret\n",
    "    \n",
    "    rets = th.tensor(rets)\n",
    "    log_probs_tensor = th.stack(pi.log_probs_list)\n",
    "    loss = -log_probs_tensor * rets\n",
    "    loss = th.sum(loss)\n",
    "    optimizer.zero_grad()\n",
    "    loss.backward()\n",
    "    optimizer.step()\n",
    "\n",
    "    return loss\n"
   ]
  },
  {
   "cell_type": "markdown",
   "metadata": {},
   "source": [
    "основной цикл обучения main"
   ]
  },
  {
   "cell_type": "code",
   "execution_count": 4,
   "metadata": {},
   "outputs": [
    {
     "name": "stderr",
     "output_type": "stream",
     "text": [
      "c:\\Users\\1\\AppData\\Local\\Programs\\Python\\Python311\\Lib\\site-packages\\gym\\envs\\registration.py:555: UserWarning: \u001b[33mWARN: The environment CartPole-v0 is out of date. You should consider upgrading to version `v1`.\u001b[0m\n",
      "  logger.warn(\n",
      "c:\\Users\\1\\AppData\\Local\\Programs\\Python\\Python311\\Lib\\site-packages\\gym\\envs\\classic_control\\cartpole.py:211: UserWarning: \u001b[33mWARN: You are calling render method without specifying any render mode. You can specify the render_mode at initialization, e.g. gym(\"CartPole-v0\", render_mode=\"rgb_array\")\u001b[0m\n",
      "  gym.logger.warn(\n"
     ]
    },
    {
     "name": "stdout",
     "output_type": "stream",
     "text": [
      "[-0.01055631  0.03225228  0.03224316 -0.03608451]\n",
      "[-0.00991127  0.22689737  0.03152147 -0.31842256]\n",
      "[-0.00537332  0.03134099  0.02515302 -0.01596791]\n",
      "[-0.0047465   0.22609335  0.02483366 -0.30060986]\n",
      "[-2.2463109e-04  4.2085272e-01  1.8821467e-02 -5.8535844e-01]\n",
      "[ 0.00819242  0.615706    0.0071143  -0.8720535 ]\n",
      "[ 0.02050654  0.8107305  -0.01032677 -1.1624912 ]\n",
      "[ 0.03672116  1.0059854  -0.0335766  -1.4583939 ]\n",
      "[ 0.05684086  1.2015028  -0.06274448 -1.7613744 ]\n"
     ]
    },
    {
     "ename": "ValueError",
     "evalue": "Expected parameter probs (Tensor of shape (2,)) of distribution Categorical(probs: torch.Size([2])) to satisfy the constraint Simplex(), but found invalid values:\ntensor([-0.0526,  1.0526], grad_fn=<DivBackward0>)",
     "output_type": "error",
     "traceback": [
      "\u001b[1;31m---------------------------------------------------------------------------\u001b[0m",
      "\u001b[1;31mValueError\u001b[0m                                Traceback (most recent call last)",
      "\u001b[1;32mc:\\Users\\1\\Desktop\\reinforcment_deep_ML\\jupyter_notes_files\\learning_RF.ipynb Cell 5\u001b[0m line \u001b[0;36m2\n\u001b[0;32m     <a href='vscode-notebook-cell:/c%3A/Users/1/Desktop/reinforcment_deep_ML/jupyter_notes_files/learning_RF.ipynb#W4sZmlsZQ%3D%3D?line=23'>24</a>\u001b[0m         \u001b[39mprint\u001b[39m(\u001b[39mf\u001b[39m\u001b[39m\"\u001b[39m\u001b[39mEpizode \u001b[39m\u001b[39m{\u001b[39;00mepi\u001b[39m}\u001b[39;00m\u001b[39m, loss: \u001b[39m\u001b[39m{\u001b[39;00mloss\u001b[39m}\u001b[39;00m\u001b[39m, total_reward: \u001b[39m\u001b[39m{\u001b[39;00mtotal_reward\u001b[39m}\u001b[39;00m\u001b[39m, solved: \u001b[39m\u001b[39m{\u001b[39;00msolved\u001b[39m}\u001b[39;00m\u001b[39m\"\u001b[39m)\n\u001b[0;32m     <a href='vscode-notebook-cell:/c%3A/Users/1/Desktop/reinforcment_deep_ML/jupyter_notes_files/learning_RF.ipynb#W4sZmlsZQ%3D%3D?line=24'>25</a>\u001b[0m         \u001b[39mprint\u001b[39m(pi\u001b[39m.\u001b[39mrewards_list)\n\u001b[1;32m---> <a href='vscode-notebook-cell:/c%3A/Users/1/Desktop/reinforcment_deep_ML/jupyter_notes_files/learning_RF.ipynb#W4sZmlsZQ%3D%3D?line=26'>27</a>\u001b[0m main()\n",
      "\u001b[1;32mc:\\Users\\1\\Desktop\\reinforcment_deep_ML\\jupyter_notes_files\\learning_RF.ipynb Cell 5\u001b[0m line \u001b[0;36m1\n\u001b[0;32m     <a href='vscode-notebook-cell:/c%3A/Users/1/Desktop/reinforcment_deep_ML/jupyter_notes_files/learning_RF.ipynb#W4sZmlsZQ%3D%3D?line=10'>11</a>\u001b[0m \u001b[39mfor\u001b[39;00m t \u001b[39min\u001b[39;00m \u001b[39mrange\u001b[39m(\u001b[39m200\u001b[39m):\n\u001b[0;32m     <a href='vscode-notebook-cell:/c%3A/Users/1/Desktop/reinforcment_deep_ML/jupyter_notes_files/learning_RF.ipynb#W4sZmlsZQ%3D%3D?line=11'>12</a>\u001b[0m     \u001b[39mprint\u001b[39m(state)\n\u001b[1;32m---> <a href='vscode-notebook-cell:/c%3A/Users/1/Desktop/reinforcment_deep_ML/jupyter_notes_files/learning_RF.ipynb#W4sZmlsZQ%3D%3D?line=12'>13</a>\u001b[0m     action \u001b[39m=\u001b[39m pi\u001b[39m.\u001b[39;49mact(state)\n\u001b[0;32m     <a href='vscode-notebook-cell:/c%3A/Users/1/Desktop/reinforcment_deep_ML/jupyter_notes_files/learning_RF.ipynb#W4sZmlsZQ%3D%3D?line=13'>14</a>\u001b[0m     state, reward, done, truncated, info \u001b[39m=\u001b[39m env\u001b[39m.\u001b[39mstep(action)\n\u001b[0;32m     <a href='vscode-notebook-cell:/c%3A/Users/1/Desktop/reinforcment_deep_ML/jupyter_notes_files/learning_RF.ipynb#W4sZmlsZQ%3D%3D?line=14'>15</a>\u001b[0m     pi\u001b[39m.\u001b[39mrewards_list\u001b[39m.\u001b[39mappend(reward)\n",
      "\u001b[1;32mc:\\Users\\1\\Desktop\\reinforcment_deep_ML\\jupyter_notes_files\\learning_RF.ipynb Cell 5\u001b[0m line \u001b[0;36m2\n\u001b[0;32m     <a href='vscode-notebook-cell:/c%3A/Users/1/Desktop/reinforcment_deep_ML/jupyter_notes_files/learning_RF.ipynb#W4sZmlsZQ%3D%3D?line=26'>27</a>\u001b[0m \u001b[39mself\u001b[39m\u001b[39m.\u001b[39mx \u001b[39m=\u001b[39m th\u001b[39m.\u001b[39mfrom_numpy(state\u001b[39m.\u001b[39mastype(np\u001b[39m.\u001b[39mfloat32))\n\u001b[0;32m     <a href='vscode-notebook-cell:/c%3A/Users/1/Desktop/reinforcment_deep_ML/jupyter_notes_files/learning_RF.ipynb#W4sZmlsZQ%3D%3D?line=27'>28</a>\u001b[0m \u001b[39mself\u001b[39m\u001b[39m.\u001b[39mforward(\u001b[39mself\u001b[39m\u001b[39m.\u001b[39mx)\n\u001b[1;32m---> <a href='vscode-notebook-cell:/c%3A/Users/1/Desktop/reinforcment_deep_ML/jupyter_notes_files/learning_RF.ipynb#W4sZmlsZQ%3D%3D?line=28'>29</a>\u001b[0m \u001b[39mself\u001b[39m\u001b[39m.\u001b[39mpd \u001b[39m=\u001b[39m th\u001b[39m.\u001b[39;49mdistributions\u001b[39m.\u001b[39;49mCategorical(\u001b[39mself\u001b[39;49m\u001b[39m.\u001b[39;49mpd_param)\n\u001b[0;32m     <a href='vscode-notebook-cell:/c%3A/Users/1/Desktop/reinforcment_deep_ML/jupyter_notes_files/learning_RF.ipynb#W4sZmlsZQ%3D%3D?line=29'>30</a>\u001b[0m \u001b[39mself\u001b[39m\u001b[39m.\u001b[39maction \u001b[39m=\u001b[39m \u001b[39mself\u001b[39m\u001b[39m.\u001b[39mpd\u001b[39m.\u001b[39msample()\n\u001b[0;32m     <a href='vscode-notebook-cell:/c%3A/Users/1/Desktop/reinforcment_deep_ML/jupyter_notes_files/learning_RF.ipynb#W4sZmlsZQ%3D%3D?line=30'>31</a>\u001b[0m \u001b[39mself\u001b[39m\u001b[39m.\u001b[39mlog_prob \u001b[39m=\u001b[39m \u001b[39mself\u001b[39m\u001b[39m.\u001b[39mpd\u001b[39m.\u001b[39mlog_prob(\u001b[39mself\u001b[39m\u001b[39m.\u001b[39maction)\n",
      "File \u001b[1;32mc:\\Users\\1\\AppData\\Local\\Programs\\Python\\Python311\\Lib\\site-packages\\torch\\distributions\\categorical.py:66\u001b[0m, in \u001b[0;36mCategorical.__init__\u001b[1;34m(self, probs, logits, validate_args)\u001b[0m\n\u001b[0;32m     64\u001b[0m \u001b[39mself\u001b[39m\u001b[39m.\u001b[39m_num_events \u001b[39m=\u001b[39m \u001b[39mself\u001b[39m\u001b[39m.\u001b[39m_param\u001b[39m.\u001b[39msize()[\u001b[39m-\u001b[39m\u001b[39m1\u001b[39m]\n\u001b[0;32m     65\u001b[0m batch_shape \u001b[39m=\u001b[39m \u001b[39mself\u001b[39m\u001b[39m.\u001b[39m_param\u001b[39m.\u001b[39msize()[:\u001b[39m-\u001b[39m\u001b[39m1\u001b[39m] \u001b[39mif\u001b[39;00m \u001b[39mself\u001b[39m\u001b[39m.\u001b[39m_param\u001b[39m.\u001b[39mndimension() \u001b[39m>\u001b[39m \u001b[39m1\u001b[39m \u001b[39melse\u001b[39;00m torch\u001b[39m.\u001b[39mSize()\n\u001b[1;32m---> 66\u001b[0m \u001b[39msuper\u001b[39;49m()\u001b[39m.\u001b[39;49m\u001b[39m__init__\u001b[39;49m(batch_shape, validate_args\u001b[39m=\u001b[39;49mvalidate_args)\n",
      "File \u001b[1;32mc:\\Users\\1\\AppData\\Local\\Programs\\Python\\Python311\\Lib\\site-packages\\torch\\distributions\\distribution.py:62\u001b[0m, in \u001b[0;36mDistribution.__init__\u001b[1;34m(self, batch_shape, event_shape, validate_args)\u001b[0m\n\u001b[0;32m     60\u001b[0m         valid \u001b[39m=\u001b[39m constraint\u001b[39m.\u001b[39mcheck(value)\n\u001b[0;32m     61\u001b[0m         \u001b[39mif\u001b[39;00m \u001b[39mnot\u001b[39;00m valid\u001b[39m.\u001b[39mall():\n\u001b[1;32m---> 62\u001b[0m             \u001b[39mraise\u001b[39;00m \u001b[39mValueError\u001b[39;00m(\n\u001b[0;32m     63\u001b[0m                 \u001b[39mf\u001b[39m\u001b[39m\"\u001b[39m\u001b[39mExpected parameter \u001b[39m\u001b[39m{\u001b[39;00mparam\u001b[39m}\u001b[39;00m\u001b[39m \u001b[39m\u001b[39m\"\u001b[39m\n\u001b[0;32m     64\u001b[0m                 \u001b[39mf\u001b[39m\u001b[39m\"\u001b[39m\u001b[39m(\u001b[39m\u001b[39m{\u001b[39;00m\u001b[39mtype\u001b[39m(value)\u001b[39m.\u001b[39m\u001b[39m__name__\u001b[39m\u001b[39m}\u001b[39;00m\u001b[39m of shape \u001b[39m\u001b[39m{\u001b[39;00m\u001b[39mtuple\u001b[39m(value\u001b[39m.\u001b[39mshape)\u001b[39m}\u001b[39;00m\u001b[39m) \u001b[39m\u001b[39m\"\u001b[39m\n\u001b[0;32m     65\u001b[0m                 \u001b[39mf\u001b[39m\u001b[39m\"\u001b[39m\u001b[39mof distribution \u001b[39m\u001b[39m{\u001b[39;00m\u001b[39mrepr\u001b[39m(\u001b[39mself\u001b[39m)\u001b[39m}\u001b[39;00m\u001b[39m \u001b[39m\u001b[39m\"\u001b[39m\n\u001b[0;32m     66\u001b[0m                 \u001b[39mf\u001b[39m\u001b[39m\"\u001b[39m\u001b[39mto satisfy the constraint \u001b[39m\u001b[39m{\u001b[39;00m\u001b[39mrepr\u001b[39m(constraint)\u001b[39m}\u001b[39;00m\u001b[39m, \u001b[39m\u001b[39m\"\u001b[39m\n\u001b[0;32m     67\u001b[0m                 \u001b[39mf\u001b[39m\u001b[39m\"\u001b[39m\u001b[39mbut found invalid values:\u001b[39m\u001b[39m\\n\u001b[39;00m\u001b[39m{\u001b[39;00mvalue\u001b[39m}\u001b[39;00m\u001b[39m\"\u001b[39m\n\u001b[0;32m     68\u001b[0m             )\n\u001b[0;32m     69\u001b[0m \u001b[39msuper\u001b[39m()\u001b[39m.\u001b[39m\u001b[39m__init__\u001b[39m()\n",
      "\u001b[1;31mValueError\u001b[0m: Expected parameter probs (Tensor of shape (2,)) of distribution Categorical(probs: torch.Size([2])) to satisfy the constraint Simplex(), but found invalid values:\ntensor([-0.0526,  1.0526], grad_fn=<DivBackward0>)"
     ]
    }
   ],
   "source": [
    "def main():\n",
    "\n",
    "    env = gm.make(\"CartPole-v0\")\n",
    "    in_dim = env.observation_space.shape[0]\n",
    "    out_dim = env.action_space.n\n",
    "    pi = PI(in_dim, out_dim)\n",
    "    optimizer = th.optim.Adam(pi.parameters(), lr=0.01)\n",
    "    for epi in range(300):\n",
    "\n",
    "        state = env.reset()[0]\n",
    "        for t in range(200):\n",
    "            print(state)\n",
    "            action = pi.act(state)\n",
    "            state, reward, done, truncated, info = env.step(action)\n",
    "            pi.rewards_list.append(reward)\n",
    "            env.render()\n",
    "            if done:\n",
    "                break\n",
    "            \n",
    "        loss = train(pi, optimizer)\n",
    "        total_reward = sum(pi.rewards_list)\n",
    "        solved = total_reward > 195.0\n",
    "        pi.onpolicy_reset()\n",
    "        print(f\"Epizode {epi}, loss: {loss}, total_reward: {total_reward}, solved: {solved}\")\n",
    "        print(pi.rewards_list)\n",
    "\n",
    "main()"
   ]
  },
  {
   "cell_type": "code",
   "execution_count": null,
   "metadata": {},
   "outputs": [],
   "source": []
  }
 ],
 "metadata": {
  "kernelspec": {
   "display_name": "Python 3",
   "language": "python",
   "name": "python3"
  },
  "language_info": {
   "codemirror_mode": {
    "name": "ipython",
    "version": 3
   },
   "file_extension": ".py",
   "mimetype": "text/x-python",
   "name": "python",
   "nbconvert_exporter": "python",
   "pygments_lexer": "ipython3",
   "version": "3.11.3"
  },
  "orig_nbformat": 4
 },
 "nbformat": 4,
 "nbformat_minor": 2
}
