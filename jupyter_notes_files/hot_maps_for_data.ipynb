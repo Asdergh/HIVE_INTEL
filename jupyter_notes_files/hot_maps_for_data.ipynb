{
 "cells": [
  {
   "cell_type": "code",
   "execution_count": 1,
   "metadata": {},
   "outputs": [],
   "source": [
    "import numpy as np\n",
    "import tensorflow as tf\n",
    "import matplotlib.pyplot as plt"
   ]
  },
  {
   "cell_type": "code",
   "execution_count": 7,
   "metadata": {},
   "outputs": [
    {
     "name": "stdout",
     "output_type": "stream",
     "text": [
      "1/1 [==============================] - 0s 251ms/step\n",
      "predicted:  [('n02110185', 'Siberian_husky', 0.42510137), ('n03218198', 'dogsled', 0.29216036), ('n02109961', 'Eskimo_dog', 0.237662)]\n",
      "250\n"
     ]
    }
   ],
   "source": [
    "model = tf.keras.applications.VGG16(weights=\"imagenet\")\n",
    "img_path = \"C:\\\\Users\\\\1\\\\Desktop\\\\reinforcment_deep_ML\\\\cats_and_dogs_dataset\\\\train\\\\dogs\\\\202.jpg\"\n",
    "\n",
    "img = tf.keras.preprocessing.image.load_img(img_path, target_size=(224, 224))\n",
    "\n",
    "x = tf.keras.preprocessing.image.img_to_array(img)\n",
    "x = np.expand_dims(x, axis=0)\n",
    "x = tf.keras.applications.vgg16.preprocess_input(x)\n",
    "\n",
    "predictions = model.predict(x)\n",
    "print(\"predicted: \", tf.keras.applications.vgg16.decode_predictions(predictions, top=3)[0])\n",
    "print(np.argmax(predictions[0]))"
   ]
  },
  {
   "cell_type": "code",
   "execution_count": 8,
   "metadata": {},
   "outputs": [
    {
     "ename": "RuntimeError",
     "evalue": "tf.gradients is not supported when eager execution is enabled. Use tf.GradientTape instead.",
     "output_type": "error",
     "traceback": [
      "\u001b[1;31m---------------------------------------------------------------------------\u001b[0m",
      "\u001b[1;31mRuntimeError\u001b[0m                              Traceback (most recent call last)",
      "\u001b[1;32mc:\\Users\\1\\Desktop\\reinforcment_deep_ML\\jupyter_notes_files\\hot_maps_for_data.ipynb Cell 3\u001b[0m line \u001b[0;36m4\n\u001b[0;32m      <a href='vscode-notebook-cell:/c%3A/Users/1/Desktop/reinforcment_deep_ML/jupyter_notes_files/hot_maps_for_data.ipynb#W2sZmlsZQ%3D%3D?line=0'>1</a>\u001b[0m siberian_husky_output \u001b[39m=\u001b[39m model\u001b[39m.\u001b[39moutput[:, \u001b[39m250\u001b[39m]\n\u001b[0;32m      <a href='vscode-notebook-cell:/c%3A/Users/1/Desktop/reinforcment_deep_ML/jupyter_notes_files/hot_maps_for_data.ipynb#W2sZmlsZQ%3D%3D?line=1'>2</a>\u001b[0m last_conv_layer \u001b[39m=\u001b[39m model\u001b[39m.\u001b[39mget_layer(\u001b[39m\"\u001b[39m\u001b[39mblock5_conv3\u001b[39m\u001b[39m\"\u001b[39m)\n\u001b[1;32m----> <a href='vscode-notebook-cell:/c%3A/Users/1/Desktop/reinforcment_deep_ML/jupyter_notes_files/hot_maps_for_data.ipynb#W2sZmlsZQ%3D%3D?line=3'>4</a>\u001b[0m grads \u001b[39m=\u001b[39m tf\u001b[39m.\u001b[39;49mkeras\u001b[39m.\u001b[39;49mbackend\u001b[39m.\u001b[39;49mgradients(siberian_husky_output, last_conv_layer\u001b[39m.\u001b[39;49moutput)[\u001b[39m0\u001b[39m]\n\u001b[0;32m      <a href='vscode-notebook-cell:/c%3A/Users/1/Desktop/reinforcment_deep_ML/jupyter_notes_files/hot_maps_for_data.ipynb#W2sZmlsZQ%3D%3D?line=4'>5</a>\u001b[0m pooled_grads \u001b[39m=\u001b[39m tf\u001b[39m.\u001b[39mkeras\u001b[39m.\u001b[39mbackend\u001b[39m.\u001b[39mmean(grads, axis\u001b[39m=\u001b[39m(\u001b[39m0\u001b[39m, \u001b[39m1\u001b[39m, \u001b[39m2\u001b[39m))\n\u001b[0;32m      <a href='vscode-notebook-cell:/c%3A/Users/1/Desktop/reinforcment_deep_ML/jupyter_notes_files/hot_maps_for_data.ipynb#W2sZmlsZQ%3D%3D?line=5'>6</a>\u001b[0m iterate \u001b[39m=\u001b[39m tf\u001b[39m.\u001b[39mkeras\u001b[39m.\u001b[39mbackend\u001b[39m.\u001b[39mfunction([model\u001b[39m.\u001b[39minput],\n\u001b[0;32m      <a href='vscode-notebook-cell:/c%3A/Users/1/Desktop/reinforcment_deep_ML/jupyter_notes_files/hot_maps_for_data.ipynb#W2sZmlsZQ%3D%3D?line=6'>7</a>\u001b[0m                                     [pooled_grads, last_conv_layer\u001b[39m.\u001b[39moutput[\u001b[39m0\u001b[39m]])\n",
      "File \u001b[1;32mc:\\Users\\1\\AppData\\Local\\Programs\\Python\\Python311\\Lib\\site-packages\\keras\\backend.py:4694\u001b[0m, in \u001b[0;36mgradients\u001b[1;34m(loss, variables)\u001b[0m\n\u001b[0;32m   4682\u001b[0m \u001b[39m@keras_export\u001b[39m(\u001b[39m\"\u001b[39m\u001b[39mkeras.backend.gradients\u001b[39m\u001b[39m\"\u001b[39m)\n\u001b[0;32m   4683\u001b[0m \u001b[39m@doc_controls\u001b[39m\u001b[39m.\u001b[39mdo_not_generate_docs\n\u001b[0;32m   4684\u001b[0m \u001b[39mdef\u001b[39;00m \u001b[39mgradients\u001b[39m(loss, variables):\n\u001b[0;32m   4685\u001b[0m \u001b[39m    \u001b[39m\u001b[39m\"\"\"Returns the gradients of `loss` w.r.t. `variables`.\u001b[39;00m\n\u001b[0;32m   4686\u001b[0m \n\u001b[0;32m   4687\u001b[0m \u001b[39m    Args:\u001b[39;00m\n\u001b[1;32m   (...)\u001b[0m\n\u001b[0;32m   4692\u001b[0m \u001b[39m        A gradients tensor.\u001b[39;00m\n\u001b[0;32m   4693\u001b[0m \u001b[39m    \"\"\"\u001b[39;00m\n\u001b[1;32m-> 4694\u001b[0m     \u001b[39mreturn\u001b[39;00m tf\u001b[39m.\u001b[39;49mcompat\u001b[39m.\u001b[39;49mv1\u001b[39m.\u001b[39;49mgradients(\n\u001b[0;32m   4695\u001b[0m         loss, variables, colocate_gradients_with_ops\u001b[39m=\u001b[39;49m\u001b[39mTrue\u001b[39;49;00m\n\u001b[0;32m   4696\u001b[0m     )\n",
      "File \u001b[1;32mc:\\Users\\1\\AppData\\Local\\Programs\\Python\\Python311\\Lib\\site-packages\\tensorflow\\python\\ops\\gradients_impl.py:165\u001b[0m, in \u001b[0;36mgradients\u001b[1;34m(ys, xs, grad_ys, name, colocate_gradients_with_ops, gate_gradients, aggregation_method, stop_gradients, unconnected_gradients)\u001b[0m\n\u001b[0;32m    160\u001b[0m \u001b[39m# Creating the gradient graph for control flow mutates Operations.\u001b[39;00m\n\u001b[0;32m    161\u001b[0m \u001b[39m# _mutation_lock ensures a Session.run call cannot occur between creating and\u001b[39;00m\n\u001b[0;32m    162\u001b[0m \u001b[39m# mutating new ops.\u001b[39;00m\n\u001b[0;32m    163\u001b[0m \u001b[39m# pylint: disable=protected-access\u001b[39;00m\n\u001b[0;32m    164\u001b[0m \u001b[39mwith\u001b[39;00m ops\u001b[39m.\u001b[39mget_default_graph()\u001b[39m.\u001b[39m_mutation_lock():\n\u001b[1;32m--> 165\u001b[0m   \u001b[39mreturn\u001b[39;00m gradients_util\u001b[39m.\u001b[39;49m_GradientsHelper(\n\u001b[0;32m    166\u001b[0m       ys, xs, grad_ys, name, colocate_gradients_with_ops,\n\u001b[0;32m    167\u001b[0m       gate_gradients, aggregation_method, stop_gradients,\n\u001b[0;32m    168\u001b[0m       unconnected_gradients)\n",
      "File \u001b[1;32mc:\\Users\\1\\AppData\\Local\\Programs\\Python\\Python311\\Lib\\site-packages\\tensorflow\\python\\ops\\gradients_util.py:480\u001b[0m, in \u001b[0;36m_GradientsHelper\u001b[1;34m(ys, xs, grad_ys, name, colocate_gradients_with_ops, gate_gradients, aggregation_method, stop_gradients, unconnected_gradients, src_graph)\u001b[0m\n\u001b[0;32m    478\u001b[0m \u001b[39m\u001b[39m\u001b[39m\"\"\"Implementation of gradients().\"\"\"\u001b[39;00m\n\u001b[0;32m    479\u001b[0m \u001b[39mif\u001b[39;00m context\u001b[39m.\u001b[39mexecuting_eagerly():\n\u001b[1;32m--> 480\u001b[0m   \u001b[39mraise\u001b[39;00m \u001b[39mRuntimeError\u001b[39;00m(\u001b[39m\"\u001b[39m\u001b[39mtf.gradients is not supported when eager execution \u001b[39m\u001b[39m\"\u001b[39m\n\u001b[0;32m    481\u001b[0m                      \u001b[39m\"\u001b[39m\u001b[39mis enabled. Use tf.GradientTape instead.\u001b[39m\u001b[39m\"\u001b[39m)\n\u001b[0;32m    482\u001b[0m ys \u001b[39m=\u001b[39m variable_utils\u001b[39m.\u001b[39mconvert_variables_to_tensors(_AsList(ys))\n\u001b[0;32m    483\u001b[0m xs \u001b[39m=\u001b[39m [\n\u001b[0;32m    484\u001b[0m     x\u001b[39m.\u001b[39mhandle \u001b[39mif\u001b[39;00m resource_variable_ops\u001b[39m.\u001b[39mis_resource_variable(x) \u001b[39melse\u001b[39;00m x\n\u001b[0;32m    485\u001b[0m     \u001b[39mfor\u001b[39;00m x \u001b[39min\u001b[39;00m _AsList(xs)\n\u001b[0;32m    486\u001b[0m ]\n",
      "\u001b[1;31mRuntimeError\u001b[0m: tf.gradients is not supported when eager execution is enabled. Use tf.GradientTape instead."
     ]
    }
   ],
   "source": [
    "siberian_husky_output = model.output[:, 250]\n",
    "last_conv_layer = model.get_layer(\"block5_conv3\")\n",
    "\n",
    "grads = tf.keras.backend.gradients(siberian_husky_output, last_conv_layer.output)[0]\n",
    "pooled_grads = tf.keras.backend.mean(grads, axis=(0, 1, 2))\n",
    "iterate = tf.keras.backend.function([model.input],\n",
    "                                    [pooled_grads, last_conv_layer.output[0]])\n",
    "pooled_grads_value, conv_layer_output_value = iterate([x])\n",
    "\n",
    "for i in range(512):\n",
    "    conv_layer_output_value[:, :, i] *= pooled_grads_value[i]\n",
    "\n",
    "heatmap = np.mean(conv_layer_output_value, acis=-1)\n",
    "heatmap = np.maximum(heatmap, 0)\n",
    "heatmap /= np.max(heatmap)\n",
    "plt.imshow(heatmap)"
   ]
  }
 ],
 "metadata": {
  "kernelspec": {
   "display_name": "Python 3",
   "language": "python",
   "name": "python3"
  },
  "language_info": {
   "codemirror_mode": {
    "name": "ipython",
    "version": 3
   },
   "file_extension": ".py",
   "mimetype": "text/x-python",
   "name": "python",
   "nbconvert_exporter": "python",
   "pygments_lexer": "ipython3",
   "version": "3.11.3"
  }
 },
 "nbformat": 4,
 "nbformat_minor": 2
}
